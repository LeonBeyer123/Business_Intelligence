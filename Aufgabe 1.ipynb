{
 "cells": [
  {
   "cell_type": "code",
   "execution_count": 1,
   "metadata": {},
   "outputs": [
    {
     "name": "stdout",
     "output_type": "stream",
     "text": [
      "                   datetime  holiday  workingday            weather   temp  \\\n",
      "0       2019-01-01 00:00:09        0           0  clear, few clouds   9.84   \n",
      "1       2019-01-01 00:00:41        0           0  clear, few clouds   9.84   \n",
      "2       2019-01-01 00:01:20        0           0  clear, few clouds   9.84   \n",
      "3       2019-01-01 00:04:12        0           0  clear, few clouds   9.84   \n",
      "4       2019-01-01 00:15:19        0           0  clear, few clouds   9.84   \n",
      "...                     ...      ...         ...                ...    ...   \n",
      "3296016 2020-12-31 23:55:56        0           1  clear, few clouds  10.66   \n",
      "3296017 2020-12-31 23:55:59        0           1  clear, few clouds  10.66   \n",
      "3296018 2020-12-31 23:57:17        0           1  clear, few clouds  10.66   \n",
      "3296019 2020-12-31 23:57:28        0           1  clear, few clouds  10.66   \n",
      "3296020 2020-12-31 23:58:10        0           1  clear, few clouds  10.66   \n",
      "\n",
      "          atemp  humidity  windspeed  registered_customer  \n",
      "0        14.395        81     0.0000                 True  \n",
      "1        14.395        81     0.0000                 True  \n",
      "2        14.395        81     0.0000                 True  \n",
      "3        14.395        81     0.0000                 True  \n",
      "4        14.395        81     0.0000                 True  \n",
      "...         ...       ...        ...                  ...  \n",
      "3296016  13.635        65     8.9981                 True  \n",
      "3296017  13.635        65     8.9981                 True  \n",
      "3296018  13.635        65     8.9981                 True  \n",
      "3296019  13.635        65     8.9981                 True  \n",
      "3296020  13.635        65     8.9981                 True  \n",
      "\n",
      "[3296021 rows x 9 columns]\n"
     ]
    }
   ],
   "source": [
    "import pyarrow.parquet as pq\n",
    "import numpy as np\n",
    "import pandas as pd\n",
    "import matplotlib.pyplot as plt\n",
    "import seaborn as sns\n",
    "from matplotlib import dates as mpl_dates\n",
    "from pandas.tseries.holiday import USFederalHolidayCalendar as calendar\n",
    "\n",
    "datasource = pq.read_table(\"escooter_history.parquet\")\n",
    "\n",
    "dataset = datasource.to_pandas()\n",
    "print(dataset)"
   ]
  },
  {
   "cell_type": "code",
   "execution_count": 2,
   "metadata": {},
   "outputs": [
    {
     "data": {
      "text/plain": [
       "(3296021, 9)"
      ]
     },
     "execution_count": 2,
     "metadata": {},
     "output_type": "execute_result"
    }
   ],
   "source": [
    "dataset.shape"
   ]
  },
  {
   "cell_type": "markdown",
   "metadata": {},
   "source": [
    "\n",
    "# Werte liegen nicht atomar vor, weitere aufsplittung nicht möglich"
   ]
  },
  {
   "cell_type": "code",
   "execution_count": 3,
   "metadata": {},
   "outputs": [
    {
     "name": "stdout",
     "output_type": "stream",
     "text": [
      "         clear, few clouds  cloudy, mist  \\\n",
      "0                        1             0   \n",
      "1                        1             0   \n",
      "2                        1             0   \n",
      "3                        1             0   \n",
      "4                        1             0   \n",
      "...                    ...           ...   \n",
      "3296016                  1             0   \n",
      "3296017                  1             0   \n",
      "3296018                  1             0   \n",
      "3296019                  1             0   \n",
      "3296020                  1             0   \n",
      "\n",
      "         heacy rain or thunderstorm or snow or ice pallets  \\\n",
      "0                                                        0   \n",
      "1                                                        0   \n",
      "2                                                        0   \n",
      "3                                                        0   \n",
      "4                                                        0   \n",
      "...                                                    ...   \n",
      "3296016                                                  0   \n",
      "3296017                                                  0   \n",
      "3296018                                                  0   \n",
      "3296019                                                  0   \n",
      "3296020                                                  0   \n",
      "\n",
      "         light snow or rain or thunderstorm  \n",
      "0                                         0  \n",
      "1                                         0  \n",
      "2                                         0  \n",
      "3                                         0  \n",
      "4                                         0  \n",
      "...                                     ...  \n",
      "3296016                                   0  \n",
      "3296017                                   0  \n",
      "3296018                                   0  \n",
      "3296019                                   0  \n",
      "3296020                                   0  \n",
      "\n",
      "[3296021 rows x 4 columns]\n"
     ]
    }
   ],
   "source": [
    "newcols = pd.get_dummies(dataset[\"weather\"])\n",
    "print(newcols)"
   ]
  },
  {
   "cell_type": "code",
   "execution_count": 4,
   "metadata": {},
   "outputs": [
    {
     "name": "stdout",
     "output_type": "stream",
     "text": [
      "                   datetime  holiday  workingday   temp   atemp  humidity  \\\n",
      "0       2019-01-01 00:00:09        0           0   9.84  14.395        81   \n",
      "1       2019-01-01 00:00:41        0           0   9.84  14.395        81   \n",
      "2       2019-01-01 00:01:20        0           0   9.84  14.395        81   \n",
      "3       2019-01-01 00:04:12        0           0   9.84  14.395        81   \n",
      "4       2019-01-01 00:15:19        0           0   9.84  14.395        81   \n",
      "...                     ...      ...         ...    ...     ...       ...   \n",
      "3296016 2020-12-31 23:55:56        0           1  10.66  13.635        65   \n",
      "3296017 2020-12-31 23:55:59        0           1  10.66  13.635        65   \n",
      "3296018 2020-12-31 23:57:17        0           1  10.66  13.635        65   \n",
      "3296019 2020-12-31 23:57:28        0           1  10.66  13.635        65   \n",
      "3296020 2020-12-31 23:58:10        0           1  10.66  13.635        65   \n",
      "\n",
      "         windspeed  registered_customer  \n",
      "0           0.0000                 True  \n",
      "1           0.0000                 True  \n",
      "2           0.0000                 True  \n",
      "3           0.0000                 True  \n",
      "4           0.0000                 True  \n",
      "...            ...                  ...  \n",
      "3296016     8.9981                 True  \n",
      "3296017     8.9981                 True  \n",
      "3296018     8.9981                 True  \n",
      "3296019     8.9981                 True  \n",
      "3296020     8.9981                 True  \n",
      "\n",
      "[3296021 rows x 8 columns]\n"
     ]
    }
   ],
   "source": [
    "dataset = dataset.drop(columns=['weather'])\n",
    "print(dataset)"
   ]
  },
  {
   "cell_type": "code",
   "execution_count": 5,
   "metadata": {},
   "outputs": [
    {
     "name": "stdout",
     "output_type": "stream",
     "text": [
      "                   datetime  holiday  workingday   temp   atemp  humidity  \\\n",
      "0       2019-01-01 00:00:09        0           0   9.84  14.395        81   \n",
      "1       2019-01-01 00:00:41        0           0   9.84  14.395        81   \n",
      "2       2019-01-01 00:01:20        0           0   9.84  14.395        81   \n",
      "3       2019-01-01 00:04:12        0           0   9.84  14.395        81   \n",
      "4       2019-01-01 00:15:19        0           0   9.84  14.395        81   \n",
      "...                     ...      ...         ...    ...     ...       ...   \n",
      "3296016 2020-12-31 23:55:56        0           1  10.66  13.635        65   \n",
      "3296017 2020-12-31 23:55:59        0           1  10.66  13.635        65   \n",
      "3296018 2020-12-31 23:57:17        0           1  10.66  13.635        65   \n",
      "3296019 2020-12-31 23:57:28        0           1  10.66  13.635        65   \n",
      "3296020 2020-12-31 23:58:10        0           1  10.66  13.635        65   \n",
      "\n",
      "         windspeed  registered_customer  clear, few clouds  cloudy, mist  \\\n",
      "0           0.0000                 True                  1             0   \n",
      "1           0.0000                 True                  1             0   \n",
      "2           0.0000                 True                  1             0   \n",
      "3           0.0000                 True                  1             0   \n",
      "4           0.0000                 True                  1             0   \n",
      "...            ...                  ...                ...           ...   \n",
      "3296016     8.9981                 True                  1             0   \n",
      "3296017     8.9981                 True                  1             0   \n",
      "3296018     8.9981                 True                  1             0   \n",
      "3296019     8.9981                 True                  1             0   \n",
      "3296020     8.9981                 True                  1             0   \n",
      "\n",
      "         heacy rain or thunderstorm or snow or ice pallets  \\\n",
      "0                                                        0   \n",
      "1                                                        0   \n",
      "2                                                        0   \n",
      "3                                                        0   \n",
      "4                                                        0   \n",
      "...                                                    ...   \n",
      "3296016                                                  0   \n",
      "3296017                                                  0   \n",
      "3296018                                                  0   \n",
      "3296019                                                  0   \n",
      "3296020                                                  0   \n",
      "\n",
      "         light snow or rain or thunderstorm  \n",
      "0                                         0  \n",
      "1                                         0  \n",
      "2                                         0  \n",
      "3                                         0  \n",
      "4                                         0  \n",
      "...                                     ...  \n",
      "3296016                                   0  \n",
      "3296017                                   0  \n",
      "3296018                                   0  \n",
      "3296019                                   0  \n",
      "3296020                                   0  \n",
      "\n",
      "[3296021 rows x 12 columns]\n"
     ]
    }
   ],
   "source": [
    "dataset = dataset.join(newcols)\n",
    "print(dataset)"
   ]
  },
  {
   "cell_type": "code",
   "execution_count": 6,
   "metadata": {},
   "outputs": [],
   "source": [
    "dataset = dataset.rename(columns={'heacy rain or thunderstorm or snow or ice pallets' : 'Heavy Precipitation', 'light snow or rain or thunderstorm': 'Light Precipitation'})"
   ]
  },
  {
   "cell_type": "code",
   "execution_count": 7,
   "metadata": {},
   "outputs": [],
   "source": [
    "dataset.dtypes\n",
    "dataset[['holiday', 'workingday' ]] = dataset[['holiday', 'workingday']].replace({0:False, 1:True})"
   ]
  },
  {
   "cell_type": "code",
   "execution_count": 8,
   "metadata": {},
   "outputs": [
    {
     "data": {
      "text/plain": [
       "datetime               datetime64[ns]\n",
       "holiday                          bool\n",
       "workingday                       bool\n",
       "temp                          float64\n",
       "atemp                         float64\n",
       "humidity                        int64\n",
       "windspeed                     float64\n",
       "registered_customer           boolean\n",
       "clear, few clouds               uint8\n",
       "cloudy, mist                    uint8\n",
       "Heavy Precipitation             uint8\n",
       "Light Precipitation             uint8\n",
       "dtype: object"
      ]
     },
     "execution_count": 8,
     "metadata": {},
     "output_type": "execute_result"
    }
   ],
   "source": [
    "dataset.dtypes"
   ]
  },
  {
   "cell_type": "code",
   "execution_count": 9,
   "metadata": {},
   "outputs": [
    {
     "data": {
      "text/plain": [
       "(623, 12)"
      ]
     },
     "execution_count": 9,
     "metadata": {},
     "output_type": "execute_result"
    }
   ],
   "source": [
    "#Remove rows with Value 0 in Humidty\n",
    "subset = dataset.loc[dataset[\"humidity\"] == 0]\n",
    "subset.shape\n",
    "dataset = dataset[dataset.humidity!= 0]"
   ]
  },
  {
   "cell_type": "code",
   "execution_count": 10,
   "metadata": {},
   "outputs": [],
   "source": [
    "dataset['Dates'] = pd.to_datetime(dataset['datetime']).dt.date\n",
    "dataset['Time'] = pd.to_datetime(dataset['datetime']).dt.time\n",
    "\n",
    "dataset['Weekday'] = pd.to_datetime(dataset['datetime']).dt.day_name()\n",
    "   \n"
   ]
  },
  {
   "cell_type": "markdown",
   "metadata": {},
   "source": [
    "# Comparison between Weekdays"
   ]
  },
  {
   "cell_type": "code",
   "execution_count": 11,
   "metadata": {},
   "outputs": [
    {
     "name": "stderr",
     "output_type": "stream",
     "text": [
      "<ipython-input-11-d125c93d8c6d>:4: MatplotlibDeprecationWarning: Case-insensitive properties were deprecated in 3.3 and support will be removed two minor releases later\n",
      "  weekfig.set_xticklabels((weekdayset.index), Rotation=80)\n"
     ]
    },
    {
     "data": {
      "image/png": "[encoded data removed]",
      "text/plain": [
       "<Figure size 432x288 with 1 Axes>"
      ]
     },
     "metadata": {
      "needs_background": "light"
     },
     "output_type": "display_data"
    }
   ],
   "source": [
    "orderlist = ['Monday', 'Tuesday', 'Wednesday', 'Thursday', 'Friday', 'Saturday', 'Sunday']\n",
    "weekdayset = dataset.groupby([\"Weekday\"]).size().to_frame(\"Rent Count\").reindex(orderlist)\n",
    "weekfig = sns.barplot(data=weekdayset, x=weekdayset.index, y=\"Rent Count\")\n",
    "weekfig.set_xticklabels((weekdayset.index), Rotation=80)\n",
    "plt.show(weekfig)"
   ]
  },
  {
   "cell_type": "markdown",
   "metadata": {},
   "source": [
    "# Montag, Verleih nach Zeiten"
   ]
  },
  {
   "cell_type": "code",
   "execution_count": 12,
   "metadata": {},
   "outputs": [
    {
     "data": {
      "image/png": "[encoded data removed]",
      "text/plain": [
       "<Figure size 432x288 with 1 Axes>"
      ]
     },
     "metadata": {
      "needs_background": "light"
     },
     "output_type": "display_data"
    }
   ],
   "source": [
    "mondayset = dataset.loc[dataset[\"Weekday\"]==\"Monday\"]\n",
    "mondayhour = mondayset.groupby(mondayset.datetime.dt.hour).size().to_frame(\"Rents per Hour\")\n",
    "monfig = sns.barplot(data=mondayhour, x=mondayhour.index, y=\"Rents per Hour\")\n",
    "plt.xlabel(\"Hour\")\n",
    "plt.ylabel(\"Rents\")\n",
    "plt.show(monfig)"
   ]
  },
  {
   "cell_type": "markdown",
   "metadata": {},
   "source": [
    "# Dienstag, Verleih nach Zeiten"
   ]
  },
  {
   "cell_type": "code",
   "execution_count": 13,
   "metadata": {},
   "outputs": [
    {
     "data": {
      "image/png": "[encoded data removed]",
      "text/plain": [
       "<Figure size 432x288 with 1 Axes>"
      ]
     },
     "metadata": {
      "needs_background": "light"
     },
     "output_type": "display_data"
    }
   ],
   "source": [
    "tuesdayset = dataset.loc[dataset[\"Weekday\"]==\"Tuesday\"]\n",
    "tuesdayhour = tuesdayset.groupby(tuesdayset.datetime.dt.hour).size().to_frame(\"Rents per Hour\")\n",
    "tuesfig = sns.barplot(data=tuesdayhour, x=tuesdayhour.index, y=\"Rents per Hour\")\n",
    "plt.xlabel(\"Hour\")\n",
    "plt.ylabel(\"Rents\")\n",
    "plt.show(tuesfig)"
   ]
  },
  {
   "cell_type": "markdown",
   "metadata": {},
   "source": [
    "# Mittwoch, Verleih nach Zeiten"
   ]
  },
  {
   "cell_type": "code",
   "execution_count": 14,
   "metadata": {},
   "outputs": [
    {
     "data": {
      "image/png": "[encoded data removed]",
      "text/plain": [
       "<Figure size 432x288 with 1 Axes>"
      ]
     },
     "metadata": {
      "needs_background": "light"
     },
     "output_type": "display_data"
    }
   ],
   "source": [
    "wednesdayset = dataset.loc[dataset[\"Weekday\"]==\"Wednesday\"]\n",
    "wednesdayhour = wednesdayset.groupby(wednesdayset.datetime.dt.hour).size().to_frame(\"Rents per Hour\")\n",
    "wedfig = sns.barplot(data=wednesdayhour, x=wednesdayhour.index, y=\"Rents per Hour\")\n",
    "plt.xlabel(\"Hour\")\n",
    "plt.ylabel(\"Rents\")\n",
    "plt.show(wedfig)"
   ]
  },
  {
   "cell_type": "markdown",
   "metadata": {},
   "source": [
    "# Donnerstag, Verleih nach Zeiten"
   ]
  },
  {
   "cell_type": "code",
   "execution_count": 15,
   "metadata": {},
   "outputs": [
    {
     "data": {
      "image/png": "[encoded data removed]",
      "text/plain": [
       "<Figure size 432x288 with 1 Axes>"
      ]
     },
     "metadata": {
      "needs_background": "light"
     },
     "output_type": "display_data"
    }
   ],
   "source": [
    "thursdayset = dataset.loc[dataset[\"Weekday\"]==\"Thursday\"]\n",
    "thursdayhour = thursdayset.groupby(thursdayset.datetime.dt.hour).size().to_frame(\"Rents per Hour\")\n",
    "thursfig = sns.barplot(data=thursdayhour, x=thursdayhour.index, y=\"Rents per Hour\")\n",
    "plt.xlabel(\"Hour\")\n",
    "plt.ylabel(\"Rents\")\n",
    "plt.show(thursfig)"
   ]
  },
  {
   "cell_type": "markdown",
   "metadata": {},
   "source": [
    "# Freitag, Verleih nach Zeiten"
   ]
  },
  {
   "cell_type": "code",
   "execution_count": 16,
   "metadata": {},
   "outputs": [
    {
     "data": {
      "image/png": "[encoded data removed]",
      "text/plain": [
       "<Figure size 432x288 with 1 Axes>"
      ]
     },
     "metadata": {
      "needs_background": "light"
     },
     "output_type": "display_data"
    }
   ],
   "source": [
    "fridayset = dataset.loc[dataset[\"Weekday\"]==\"Friday\"]\n",
    "fridayhour = fridayset.groupby(fridayset.datetime.dt.hour).size().to_frame(\"Rents per Hour\")\n",
    "fridfig = sns.barplot(data=fridayhour, x=fridayhour.index, y=\"Rents per Hour\")\n",
    "plt.xlabel(\"Hour\")\n",
    "plt.ylabel(\"Rents\")\n",
    "plt.show(fridfig)"
   ]
  },
  {
   "cell_type": "markdown",
   "metadata": {},
   "source": [
    "# Samstag, Verleih nach Zeiten"
   ]
  },
  {
   "cell_type": "code",
   "execution_count": 17,
   "metadata": {},
   "outputs": [
    {
     "data": {
      "image/png": "[encoded data removed]",
      "text/plain": [
       "<Figure size 432x288 with 1 Axes>"
      ]
     },
     "metadata": {
      "needs_background": "light"
     },
     "output_type": "display_data"
    }
   ],
   "source": [
    "saturdayset = dataset.loc[dataset[\"Weekday\"]==\"Saturday\"]\n",
    "saturdayhour = saturdayset.groupby(saturdayset.datetime.dt.hour).size().to_frame(\"Rents per Hour\")\n",
    "satfig = sns.barplot(data=saturdayhour, x=saturdayhour.index, y=\"Rents per Hour\")\n",
    "plt.xlabel(\"Hour\")\n",
    "plt.ylabel(\"Rents\")\n",
    "plt.show(satfig)\n"
   ]
  },
  {
   "cell_type": "markdown",
   "metadata": {},
   "source": [
    "# Sonntag, Verleih nach Zeiten"
   ]
  },
  {
   "cell_type": "code",
   "execution_count": 18,
   "metadata": {},
   "outputs": [
    {
     "data": {
      "image/png": "[encoded data removed]",
      "text/plain": [
       "<Figure size 432x288 with 1 Axes>"
      ]
     },
     "metadata": {
      "needs_background": "light"
     },
     "output_type": "display_data"
    }
   ],
   "source": [
    "sundayset = dataset.loc[dataset[\"Weekday\"]==\"Sunday\"]\n",
    "sundayhour = sundayset.groupby(sundayset.datetime.dt.hour).size().to_frame(\"Rents per Hour\")\n",
    "sunfig = sns.barplot(data=sundayhour, x=sundayhour.index, y=\"Rents per Hour\")\n",
    "plt.xlabel(\"Hour\")\n",
    "plt.ylabel(\"Rents\")\n",
    "plt.show(sunfig)"
   ]
  },
  {
   "cell_type": "markdown",
   "metadata": {},
   "source": [
    "# Ausleihen nach Monat und registrierten Kunden"
   ]
  },
  {
   "cell_type": "code",
   "execution_count": 19,
   "metadata": {},
   "outputs": [
    {
     "name": "stderr",
     "output_type": "stream",
     "text": [
      "<ipython-input-19-9e88a0c10ced>:6: MatplotlibDeprecationWarning: Case-insensitive properties were deprecated in 3.3 and support will be removed two minor releases later\n",
      "  monthfig.set_xticklabels((groupedbymonth.MonthYear), Rotation=80)\n"
     ]
    },
    {
     "data": {
      "image/png": "[encoded data removed]",
      "text/plain": [
       "<Figure size 432x288 with 1 Axes>"
      ]
     },
     "metadata": {
      "needs_background": "light"
     },
     "output_type": "display_data"
    }
   ],
   "source": [
    "groupedbymonth = dataset.groupby(by=[dataset.datetime.dt.year, dataset.datetime.dt.month]).agg({'temp' : 'count', 'datetime': 'min', 'registered_customer' : 'sum'})\n",
    "groupedbymonth = groupedbymonth.rename(columns={'temp' : 'Rents', 'datetime' : 'Start'})\n",
    "groupedbymonth['MonthYear'] = groupedbymonth.Start.dt.strftime(\"%Y %m\")\n",
    "monthfig = sns.barplot(data=groupedbymonth, x=groupedbymonth[\"Start\"], y=\"Rents\", color='b')\n",
    "monthfig = sns.barplot(data=groupedbymonth, x=groupedbymonth[\"Start\"], y=\"registered_customer\", color='r')\n",
    "monthfig.set_xticklabels((groupedbymonth.MonthYear), Rotation=80)\n",
    "plt.show(monthfig)"
   ]
  }
 ],
 "metadata": {
  "interpreter": {
   "hash": "e807af231ab76fa8d61bfd7225036ea56d9a5fd196f6be9249c14f77a5faaf3d"
  },
  "kernelspec": {
   "display_name": "Python 3.9.0 64-bit",
   "name": "python3"
  },
  "language_info": {
   "codemirror_mode": {
    "name": "ipython",
    "version": 3
   },
   "file_extension": ".py",
   "mimetype": "text/x-python",
   "name": "python",
   "nbconvert_exporter": "python",
   "pygments_lexer": "ipython3",
   "version": "3.9.0"
  },
  "orig_nbformat": 4
 },
 "nbformat": 4,
 "nbformat_minor": 2
}

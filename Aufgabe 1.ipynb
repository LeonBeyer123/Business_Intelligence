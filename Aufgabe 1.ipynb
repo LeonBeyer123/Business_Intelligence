{
 "cells": [
  {
   "cell_type": "code",
   "execution_count": 1,
   "metadata": {},
   "outputs": [
    {
     "name": "stdout",
     "output_type": "stream",
     "text": [
      "                   datetime  holiday  workingday            weather   temp  \\\n",
      "0       2019-01-01 00:00:09        0           0  clear, few clouds   9.84   \n",
      "1       2019-01-01 00:00:41        0           0  clear, few clouds   9.84   \n",
      "2       2019-01-01 00:01:20        0           0  clear, few clouds   9.84   \n",
      "3       2019-01-01 00:04:12        0           0  clear, few clouds   9.84   \n",
      "4       2019-01-01 00:15:19        0           0  clear, few clouds   9.84   \n",
      "...                     ...      ...         ...                ...    ...   \n",
      "3296016 2020-12-31 23:55:56        0           1  clear, few clouds  10.66   \n",
      "3296017 2020-12-31 23:55:59        0           1  clear, few clouds  10.66   \n",
      "3296018 2020-12-31 23:57:17        0           1  clear, few clouds  10.66   \n",
      "3296019 2020-12-31 23:57:28        0           1  clear, few clouds  10.66   \n",
      "3296020 2020-12-31 23:58:10        0           1  clear, few clouds  10.66   \n",
      "\n",
      "          atemp  humidity  windspeed  registered_customer  \n",
      "0        14.395        81     0.0000                 True  \n",
      "1        14.395        81     0.0000                 True  \n",
      "2        14.395        81     0.0000                 True  \n",
      "3        14.395        81     0.0000                 True  \n",
      "4        14.395        81     0.0000                 True  \n",
      "...         ...       ...        ...                  ...  \n",
      "3296016  13.635        65     8.9981                 True  \n",
      "3296017  13.635        65     8.9981                 True  \n",
      "3296018  13.635        65     8.9981                 True  \n",
      "3296019  13.635        65     8.9981                 True  \n",
      "3296020  13.635        65     8.9981                 True  \n",
      "\n",
      "[3296021 rows x 9 columns]\n"
     ]
    }
   ],
   "source": [
    "import pyarrow.parquet as pq\n",
    "import numpy as np\n",
    "import pandas as pd\n",
    "import matplotlib.pyplot as plt\n",
    "import seaborn as sns\n",
    "from matplotlib import dates as mpl_dates\n",
    "from pandas.tseries.holiday import USFederalHolidayCalendar as calendar\n",
    "\n",
    "datasource = pq.read_table(\"escooter_history.parquet\")\n",
    "\n",
    "dataset = datasource.to_pandas()\n",
    "print(dataset)"
   ]
  },
  {
   "cell_type": "code",
   "execution_count": 4,
   "metadata": {},
   "outputs": [
    {
     "data": {
      "text/html": [
       "<div>\n",
       "<style scoped>\n",
       "    .dataframe tbody tr th:only-of-type {\n",
       "        vertical-align: middle;\n",
       "    }\n",
       "\n",
       "    .dataframe tbody tr th {\n",
       "        vertical-align: top;\n",
       "    }\n",
       "\n",
       "    .dataframe thead th {\n",
       "        text-align: right;\n",
       "    }\n",
       "</style>\n",
       "<table border=\"1\" class=\"dataframe\">\n",
       "  <thead>\n",
       "    <tr style=\"text-align: right;\">\n",
       "      <th></th>\n",
       "      <th>holiday</th>\n",
       "      <th>workingday</th>\n",
       "      <th>temp</th>\n",
       "      <th>atemp</th>\n",
       "      <th>humidity</th>\n",
       "      <th>windspeed</th>\n",
       "      <th>registered_customer</th>\n",
       "    </tr>\n",
       "  </thead>\n",
       "  <tbody>\n",
       "    <tr>\n",
       "      <th>count</th>\n",
       "      <td>3.296021e+06</td>\n",
       "      <td>3.296021e+06</td>\n",
       "      <td>3.296021e+06</td>\n",
       "      <td>3.296021e+06</td>\n",
       "      <td>3.296021e+06</td>\n",
       "      <td>3.296021e+06</td>\n",
       "      <td>3296021</td>\n",
       "    </tr>\n",
       "    <tr>\n",
       "      <th>unique</th>\n",
       "      <td>NaN</td>\n",
       "      <td>NaN</td>\n",
       "      <td>NaN</td>\n",
       "      <td>NaN</td>\n",
       "      <td>NaN</td>\n",
       "      <td>NaN</td>\n",
       "      <td>2</td>\n",
       "    </tr>\n",
       "    <tr>\n",
       "      <th>top</th>\n",
       "      <td>NaN</td>\n",
       "      <td>NaN</td>\n",
       "      <td>NaN</td>\n",
       "      <td>NaN</td>\n",
       "      <td>NaN</td>\n",
       "      <td>NaN</td>\n",
       "      <td>True</td>\n",
       "    </tr>\n",
       "    <tr>\n",
       "      <th>freq</th>\n",
       "      <td>NaN</td>\n",
       "      <td>NaN</td>\n",
       "      <td>NaN</td>\n",
       "      <td>NaN</td>\n",
       "      <td>NaN</td>\n",
       "      <td>NaN</td>\n",
       "      <td>2679174</td>\n",
       "    </tr>\n",
       "    <tr>\n",
       "      <th>mean</th>\n",
       "      <td>2.708539e-02</td>\n",
       "      <td>6.914516e-01</td>\n",
       "      <td>2.330069e+01</td>\n",
       "      <td>2.694455e+01</td>\n",
       "      <td>5.667220e+01</td>\n",
       "      <td>1.344274e+01</td>\n",
       "      <td>NaN</td>\n",
       "    </tr>\n",
       "    <tr>\n",
       "      <th>std</th>\n",
       "      <td>1.623323e-01</td>\n",
       "      <td>4.618943e-01</td>\n",
       "      <td>7.417160e+00</td>\n",
       "      <td>7.960401e+00</td>\n",
       "      <td>1.825513e+01</td>\n",
       "      <td>8.042864e+00</td>\n",
       "      <td>NaN</td>\n",
       "    </tr>\n",
       "    <tr>\n",
       "      <th>min</th>\n",
       "      <td>0.000000e+00</td>\n",
       "      <td>0.000000e+00</td>\n",
       "      <td>8.200000e-01</td>\n",
       "      <td>0.000000e+00</td>\n",
       "      <td>0.000000e+00</td>\n",
       "      <td>0.000000e+00</td>\n",
       "      <td>NaN</td>\n",
       "    </tr>\n",
       "    <tr>\n",
       "      <th>25%</th>\n",
       "      <td>0.000000e+00</td>\n",
       "      <td>0.000000e+00</td>\n",
       "      <td>1.722000e+01</td>\n",
       "      <td>2.121000e+01</td>\n",
       "      <td>4.200000e+01</td>\n",
       "      <td>7.001500e+00</td>\n",
       "      <td>NaN</td>\n",
       "    </tr>\n",
       "    <tr>\n",
       "      <th>50%</th>\n",
       "      <td>0.000000e+00</td>\n",
       "      <td>1.000000e+00</td>\n",
       "      <td>2.460000e+01</td>\n",
       "      <td>2.803000e+01</td>\n",
       "      <td>5.500000e+01</td>\n",
       "      <td>1.299800e+01</td>\n",
       "      <td>NaN</td>\n",
       "    </tr>\n",
       "    <tr>\n",
       "      <th>75%</th>\n",
       "      <td>0.000000e+00</td>\n",
       "      <td>1.000000e+00</td>\n",
       "      <td>2.952000e+01</td>\n",
       "      <td>3.257500e+01</td>\n",
       "      <td>7.000000e+01</td>\n",
       "      <td>1.900120e+01</td>\n",
       "      <td>NaN</td>\n",
       "    </tr>\n",
       "    <tr>\n",
       "      <th>max</th>\n",
       "      <td>1.000000e+00</td>\n",
       "      <td>1.000000e+00</td>\n",
       "      <td>4.100000e+01</td>\n",
       "      <td>5.000000e+01</td>\n",
       "      <td>1.000000e+02</td>\n",
       "      <td>5.699690e+01</td>\n",
       "      <td>NaN</td>\n",
       "    </tr>\n",
       "  </tbody>\n",
       "</table>\n",
       "</div>"
      ],
      "text/plain": [
       "             holiday    workingday          temp         atemp      humidity  \\\n",
       "count   3.296021e+06  3.296021e+06  3.296021e+06  3.296021e+06  3.296021e+06   \n",
       "unique           NaN           NaN           NaN           NaN           NaN   \n",
       "top              NaN           NaN           NaN           NaN           NaN   \n",
       "freq             NaN           NaN           NaN           NaN           NaN   \n",
       "mean    2.708539e-02  6.914516e-01  2.330069e+01  2.694455e+01  5.667220e+01   \n",
       "std     1.623323e-01  4.618943e-01  7.417160e+00  7.960401e+00  1.825513e+01   \n",
       "min     0.000000e+00  0.000000e+00  8.200000e-01  0.000000e+00  0.000000e+00   \n",
       "25%     0.000000e+00  0.000000e+00  1.722000e+01  2.121000e+01  4.200000e+01   \n",
       "50%     0.000000e+00  1.000000e+00  2.460000e+01  2.803000e+01  5.500000e+01   \n",
       "75%     0.000000e+00  1.000000e+00  2.952000e+01  3.257500e+01  7.000000e+01   \n",
       "max     1.000000e+00  1.000000e+00  4.100000e+01  5.000000e+01  1.000000e+02   \n",
       "\n",
       "           windspeed registered_customer  \n",
       "count   3.296021e+06             3296021  \n",
       "unique           NaN                   2  \n",
       "top              NaN                True  \n",
       "freq             NaN             2679174  \n",
       "mean    1.344274e+01                 NaN  \n",
       "std     8.042864e+00                 NaN  \n",
       "min     0.000000e+00                 NaN  \n",
       "25%     7.001500e+00                 NaN  \n",
       "50%     1.299800e+01                 NaN  \n",
       "75%     1.900120e+01                 NaN  \n",
       "max     5.699690e+01                 NaN  "
      ]
     },
     "execution_count": 4,
     "metadata": {},
     "output_type": "execute_result"
    }
   ],
   "source": [
    "dataset.describe()"
   ]
  },
  {
   "cell_type": "markdown",
   "metadata": {},
   "source": [
    "\n",
    "# Werte liegen nicht atomar vor, weitere aufsplittung nicht möglich"
   ]
  },
  {
   "cell_type": "code",
   "execution_count": 3,
   "metadata": {},
   "outputs": [
    {
     "name": "stdout",
     "output_type": "stream",
     "text": [
      "         clear, few clouds  cloudy, mist  \\\n",
      "0                        1             0   \n",
      "1                        1             0   \n",
      "2                        1             0   \n",
      "3                        1             0   \n",
      "4                        1             0   \n",
      "...                    ...           ...   \n",
      "3296016                  1             0   \n",
      "3296017                  1             0   \n",
      "3296018                  1             0   \n",
      "3296019                  1             0   \n",
      "3296020                  1             0   \n",
      "\n",
      "         heacy rain or thunderstorm or snow or ice pallets  \\\n",
      "0                                                        0   \n",
      "1                                                        0   \n",
      "2                                                        0   \n",
      "3                                                        0   \n",
      "4                                                        0   \n",
      "...                                                    ...   \n",
      "3296016                                                  0   \n",
      "3296017                                                  0   \n",
      "3296018                                                  0   \n",
      "3296019                                                  0   \n",
      "3296020                                                  0   \n",
      "\n",
      "         light snow or rain or thunderstorm  \n",
      "0                                         0  \n",
      "1                                         0  \n",
      "2                                         0  \n",
      "3                                         0  \n",
      "4                                         0  \n",
      "...                                     ...  \n",
      "3296016                                   0  \n",
      "3296017                                   0  \n",
      "3296018                                   0  \n",
      "3296019                                   0  \n",
      "3296020                                   0  \n",
      "\n",
      "[3296021 rows x 4 columns]\n"
     ]
    }
   ],
   "source": [
    "newcols = pd.get_dummies(dataset[\"weather\"])\n",
    "print(newcols)"
   ]
  },
  {
   "cell_type": "code",
   "execution_count": 4,
   "metadata": {},
   "outputs": [
    {
     "name": "stdout",
     "output_type": "stream",
     "text": [
      "                   datetime  holiday  workingday   temp   atemp  humidity  \\\n",
      "0       2019-01-01 00:00:09        0           0   9.84  14.395        81   \n",
      "1       2019-01-01 00:00:41        0           0   9.84  14.395        81   \n",
      "2       2019-01-01 00:01:20        0           0   9.84  14.395        81   \n",
      "3       2019-01-01 00:04:12        0           0   9.84  14.395        81   \n",
      "4       2019-01-01 00:15:19        0           0   9.84  14.395        81   \n",
      "...                     ...      ...         ...    ...     ...       ...   \n",
      "3296016 2020-12-31 23:55:56        0           1  10.66  13.635        65   \n",
      "3296017 2020-12-31 23:55:59        0           1  10.66  13.635        65   \n",
      "3296018 2020-12-31 23:57:17        0           1  10.66  13.635        65   \n",
      "3296019 2020-12-31 23:57:28        0           1  10.66  13.635        65   \n",
      "3296020 2020-12-31 23:58:10        0           1  10.66  13.635        65   \n",
      "\n",
      "         windspeed  registered_customer  \n",
      "0           0.0000                 True  \n",
      "1           0.0000                 True  \n",
      "2           0.0000                 True  \n",
      "3           0.0000                 True  \n",
      "4           0.0000                 True  \n",
      "...            ...                  ...  \n",
      "3296016     8.9981                 True  \n",
      "3296017     8.9981                 True  \n",
      "3296018     8.9981                 True  \n",
      "3296019     8.9981                 True  \n",
      "3296020     8.9981                 True  \n",
      "\n",
      "[3296021 rows x 8 columns]\n"
     ]
    }
   ],
   "source": [
    "dataset = dataset.drop(columns=['weather'])\n",
    "print(dataset)"
   ]
  },
  {
   "cell_type": "code",
   "execution_count": 5,
   "metadata": {},
   "outputs": [
    {
     "name": "stdout",
     "output_type": "stream",
     "text": [
      "                   datetime  holiday  workingday   temp   atemp  humidity  \\\n",
      "0       2019-01-01 00:00:09        0           0   9.84  14.395        81   \n",
      "1       2019-01-01 00:00:41        0           0   9.84  14.395        81   \n",
      "2       2019-01-01 00:01:20        0           0   9.84  14.395        81   \n",
      "3       2019-01-01 00:04:12        0           0   9.84  14.395        81   \n",
      "4       2019-01-01 00:15:19        0           0   9.84  14.395        81   \n",
      "...                     ...      ...         ...    ...     ...       ...   \n",
      "3296016 2020-12-31 23:55:56        0           1  10.66  13.635        65   \n",
      "3296017 2020-12-31 23:55:59        0           1  10.66  13.635        65   \n",
      "3296018 2020-12-31 23:57:17        0           1  10.66  13.635        65   \n",
      "3296019 2020-12-31 23:57:28        0           1  10.66  13.635        65   \n",
      "3296020 2020-12-31 23:58:10        0           1  10.66  13.635        65   \n",
      "\n",
      "         windspeed  registered_customer  clear, few clouds  cloudy, mist  \\\n",
      "0           0.0000                 True                  1             0   \n",
      "1           0.0000                 True                  1             0   \n",
      "2           0.0000                 True                  1             0   \n",
      "3           0.0000                 True                  1             0   \n",
      "4           0.0000                 True                  1             0   \n",
      "...            ...                  ...                ...           ...   \n",
      "3296016     8.9981                 True                  1             0   \n",
      "3296017     8.9981                 True                  1             0   \n",
      "3296018     8.9981                 True                  1             0   \n",
      "3296019     8.9981                 True                  1             0   \n",
      "3296020     8.9981                 True                  1             0   \n",
      "\n",
      "         heacy rain or thunderstorm or snow or ice pallets  \\\n",
      "0                                                        0   \n",
      "1                                                        0   \n",
      "2                                                        0   \n",
      "3                                                        0   \n",
      "4                                                        0   \n",
      "...                                                    ...   \n",
      "3296016                                                  0   \n",
      "3296017                                                  0   \n",
      "3296018                                                  0   \n",
      "3296019                                                  0   \n",
      "3296020                                                  0   \n",
      "\n",
      "         light snow or rain or thunderstorm  \n",
      "0                                         0  \n",
      "1                                         0  \n",
      "2                                         0  \n",
      "3                                         0  \n",
      "4                                         0  \n",
      "...                                     ...  \n",
      "3296016                                   0  \n",
      "3296017                                   0  \n",
      "3296018                                   0  \n",
      "3296019                                   0  \n",
      "3296020                                   0  \n",
      "\n",
      "[3296021 rows x 12 columns]\n"
     ]
    }
   ],
   "source": [
    "dataset = dataset.join(newcols)\n",
    "print(dataset)"
   ]
  },
  {
   "cell_type": "code",
   "execution_count": 6,
   "metadata": {},
   "outputs": [],
   "source": [
    "dataset = dataset.rename(columns={'heacy rain or thunderstorm or snow or ice pallets' : 'Heavy Precipitation', 'light snow or rain or thunderstorm': 'Light Precipitation'})"
   ]
  },
  {
   "cell_type": "code",
   "execution_count": 7,
   "metadata": {},
   "outputs": [],
   "source": [
    "dataset.dtypes\n",
    "dataset[['holiday', 'workingday' ]] = dataset[['holiday', 'workingday']].replace({0:False, 1:True})"
   ]
  },
  {
   "cell_type": "code",
   "execution_count": 8,
   "metadata": {},
   "outputs": [
    {
     "data": {
      "text/plain": [
       "datetime               datetime64[ns]\n",
       "holiday                          bool\n",
       "workingday                       bool\n",
       "temp                          float64\n",
       "atemp                         float64\n",
       "humidity                        int64\n",
       "windspeed                     float64\n",
       "registered_customer           boolean\n",
       "clear, few clouds               uint8\n",
       "cloudy, mist                    uint8\n",
       "Heavy Precipitation             uint8\n",
       "Light Precipitation             uint8\n",
       "dtype: object"
      ]
     },
     "execution_count": 8,
     "metadata": {},
     "output_type": "execute_result"
    }
   ],
   "source": [
    "dataset.dtypes"
   ]
  },
  {
   "cell_type": "code",
   "execution_count": 9,
   "metadata": {},
   "outputs": [],
   "source": [
    "subset = dataset.loc[dataset[\"humidity\"] == 0]\n",
    "#Replace 0 values with average humidity"
   ]
  },
  {
   "cell_type": "code",
   "execution_count": 10,
   "metadata": {},
   "outputs": [],
   "source": [
    "dataset['Dates'] = pd.to_datetime(dataset['datetime']).dt.date\n",
    "dataset['Time'] = pd.to_datetime(dataset['datetime']).dt.time\n",
    "\n",
    "dataset['Weekday'] = pd.to_datetime(dataset['datetime']).dt.day_name()\n",
    "   \n"
   ]
  },
  {
   "cell_type": "markdown",
   "metadata": {},
   "source": [
    "# Comparison between Weekdays"
   ]
  },
  {
   "cell_type": "code",
   "execution_count": 11,
   "metadata": {},
   "outputs": [
    {
     "data": {
      "text/plain": [
       "<AxesSubplot:xlabel='Weekday', ylabel='Rent Count'>"
      ]
     },
     "execution_count": 11,
     "metadata": {},
     "output_type": "execute_result"
    },
    {
     "data": {
      "image/png": "[encoded data removed]",
      "text/plain": [
       "<Figure size 432x288 with 1 Axes>"
      ]
     },
     "metadata": {
      "needs_background": "light"
     },
     "output_type": "display_data"
    }
   ],
   "source": [
    "weekdayset = dataset.groupby([\"Weekday\"]).size().to_frame(\"Rent Count\")\n",
    "weekdayset\n",
    "sns.barplot(data=weekdayset, x=weekdayset.index, y=\"Rent Count\")"
   ]
  },
  {
   "cell_type": "markdown",
   "metadata": {},
   "source": [
    "# Montag, Verleih nach Zeiten"
   ]
  },
  {
   "cell_type": "code",
   "execution_count": 12,
   "metadata": {},
   "outputs": [
    {
     "data": {
      "image/png": "[encoded data removed]",
      "text/plain": [
       "<Figure size 432x288 with 1 Axes>"
      ]
     },
     "metadata": {
      "needs_background": "light"
     },
     "output_type": "display_data"
    }
   ],
   "source": [
    "mondayset = dataset.loc[dataset[\"Weekday\"]==\"Monday\"]\n",
    "mondayhour = mondayset.groupby(mondayset.datetime.dt.hour).size().to_frame(\"Rents per Hour\")\n",
    "monfig = sns.barplot(data=mondayhour, x=mondayhour.index, y=\"Rents per Hour\")\n",
    "plt.xlabel(\"Hour\")\n",
    "plt.ylabel(\"Rents\")\n",
    "plt.show(monfig)"
   ]
  },
  {
   "cell_type": "markdown",
   "metadata": {},
   "source": [
    "# Dienstag, Verleih nach Zeiten"
   ]
  },
  {
   "cell_type": "code",
   "execution_count": 13,
   "metadata": {},
   "outputs": [
    {
     "data": {
      "image/png": "[encoded data removed]",
      "text/plain": [
       "<Figure size 432x288 with 1 Axes>"
      ]
     },
     "metadata": {
      "needs_background": "light"
     },
     "output_type": "display_data"
    }
   ],
   "source": [
    "tuesdayset = dataset.loc[dataset[\"Weekday\"]==\"Tuesday\"]\n",
    "tuesdayhour = tuesdayset.groupby(tuesdayset.datetime.dt.hour).size().to_frame(\"Rents per Hour\")\n",
    "tuesfig = sns.barplot(data=tuesdayhour, x=tuesdayhour.index, y=\"Rents per Hour\")\n",
    "plt.xlabel(\"Hour\")\n",
    "plt.ylabel(\"Rents\")\n",
    "plt.show(tuesfig)"
   ]
  },
  {
   "cell_type": "markdown",
   "metadata": {},
   "source": [
    "# Mittwoch, Verleih nach Zeiten"
   ]
  },
  {
   "cell_type": "code",
   "execution_count": 14,
   "metadata": {},
   "outputs": [
    {
     "data": {
      "image/png": "[encoded data removed]",
      "text/plain": [
       "<Figure size 432x288 with 1 Axes>"
      ]
     },
     "metadata": {
      "needs_background": "light"
     },
     "output_type": "display_data"
    }
   ],
   "source": [
    "wednesdayset = dataset.loc[dataset[\"Weekday\"]==\"Wednesday\"]\n",
    "wednesdayhour = wednesdayset.groupby(wednesdayset.datetime.dt.hour).size().to_frame(\"Rents per Hour\")\n",
    "wedfig = sns.barplot(data=wednesdayhour, x=wednesdayhour.index, y=\"Rents per Hour\")\n",
    "plt.xlabel(\"Hour\")\n",
    "plt.ylabel(\"Rents\")\n",
    "plt.show(wedfig)"
   ]
  },
  {
   "cell_type": "markdown",
   "metadata": {},
   "source": [
    "# Donnerstag, Verleih nach Zeiten"
   ]
  },
  {
   "cell_type": "code",
   "execution_count": 15,
   "metadata": {},
   "outputs": [
    {
     "data": {
      "image/png": "[encoded data removed]",
      "text/plain": [
       "<Figure size 432x288 with 1 Axes>"
      ]
     },
     "metadata": {
      "needs_background": "light"
     },
     "output_type": "display_data"
    }
   ],
   "source": [
    "thursdayset = dataset.loc[dataset[\"Weekday\"]==\"Thursday\"]\n",
    "thursdayhour = thursdayset.groupby(thursdayset.datetime.dt.hour).size().to_frame(\"Rents per Hour\")\n",
    "thursfig = sns.barplot(data=thursdayhour, x=thursdayhour.index, y=\"Rents per Hour\")\n",
    "plt.xlabel(\"Hour\")\n",
    "plt.ylabel(\"Rents\")\n",
    "plt.show(thursfig)"
   ]
  },
  {
   "cell_type": "markdown",
   "metadata": {},
   "source": [
    "# Freitag, Verleih nach Zeiten"
   ]
  },
  {
   "cell_type": "code",
   "execution_count": 16,
   "metadata": {},
   "outputs": [
    {
     "data": {
      "image/png": "[encoded data removed]",
      "text/plain": [
       "<Figure size 432x288 with 1 Axes>"
      ]
     },
     "metadata": {
      "needs_background": "light"
     },
     "output_type": "display_data"
    }
   ],
   "source": [
    "fridayset = dataset.loc[dataset[\"Weekday\"]==\"Friday\"]\n",
    "fridayhour = fridayset.groupby(fridayset.datetime.dt.hour).size().to_frame(\"Rents per Hour\")\n",
    "fridfig = sns.barplot(data=fridayhour, x=fridayhour.index, y=\"Rents per Hour\")\n",
    "plt.xlabel(\"Hour\")\n",
    "plt.ylabel(\"Rents\")\n",
    "plt.show(fridfig)"
   ]
  },
  {
   "cell_type": "markdown",
   "metadata": {},
   "source": [
    "# Samstag, Verleih nach Zeiten"
   ]
  },
  {
   "cell_type": "code",
   "execution_count": 17,
   "metadata": {},
   "outputs": [
    {
     "data": {
      "image/png": "[encoded data removed]",
      "text/plain": [
       "<Figure size 432x288 with 1 Axes>"
      ]
     },
     "metadata": {
      "needs_background": "light"
     },
     "output_type": "display_data"
    }
   ],
   "source": [
    "saturdayset = dataset.loc[dataset[\"Weekday\"]==\"Saturday\"]\n",
    "saturdayhour = saturdayset.groupby(saturdayset.datetime.dt.hour).size().to_frame(\"Rents per Hour\")\n",
    "satfig = sns.barplot(data=saturdayhour, x=saturdayhour.index, y=\"Rents per Hour\")\n",
    "plt.xlabel(\"Hour\")\n",
    "plt.ylabel(\"Rents\")\n",
    "plt.show(satfig)\n"
   ]
  },
  {
   "cell_type": "markdown",
   "metadata": {},
   "source": [
    "# Sonntag, Verleih nach Zeiten"
   ]
  },
  {
   "cell_type": "code",
   "execution_count": 18,
   "metadata": {},
   "outputs": [
    {
     "data": {
      "image/png": "[encoded data removed]",
      "text/plain": [
       "<Figure size 432x288 with 1 Axes>"
      ]
     },
     "metadata": {
      "needs_background": "light"
     },
     "output_type": "display_data"
    }
   ],
   "source": [
    "sundayset = dataset.loc[dataset[\"Weekday\"]==\"Sunday\"]\n",
    "sundayhour = sundayset.groupby(sundayset.datetime.dt.hour).size().to_frame(\"Rents per Hour\")\n",
    "sunfig = sns.barplot(data=sundayhour, x=sundayhour.index, y=\"Rents per Hour\")\n",
    "plt.xlabel(\"Hour\")\n",
    "plt.ylabel(\"Rents\")\n",
    "plt.show(sunfig)"
   ]
  },
  {
   "cell_type": "markdown",
   "metadata": {},
   "source": [
    "# Ausleihen nach Zeit"
   ]
  },
  {
   "cell_type": "code",
   "execution_count": 7,
   "metadata": {},
   "outputs": [
    {
     "data": {
      "text/html": [
       "<div>\n",
       "<style scoped>\n",
       "    .dataframe tbody tr th:only-of-type {\n",
       "        vertical-align: middle;\n",
       "    }\n",
       "\n",
       "    .dataframe tbody tr th {\n",
       "        vertical-align: top;\n",
       "    }\n",
       "\n",
       "    .dataframe thead tr th {\n",
       "        text-align: left;\n",
       "    }\n",
       "\n",
       "    .dataframe thead tr:last-of-type th {\n",
       "        text-align: right;\n",
       "    }\n",
       "</style>\n",
       "<table border=\"1\" class=\"dataframe\">\n",
       "  <thead>\n",
       "    <tr>\n",
       "      <th></th>\n",
       "      <th colspan=\"10\" halign=\"left\">holiday</th>\n",
       "      <th>...</th>\n",
       "      <th colspan=\"10\" halign=\"left\">registered_customer</th>\n",
       "    </tr>\n",
       "    <tr>\n",
       "      <th></th>\n",
       "      <th>count</th>\n",
       "      <th>unique</th>\n",
       "      <th>top</th>\n",
       "      <th>freq</th>\n",
       "      <th>mean</th>\n",
       "      <th>std</th>\n",
       "      <th>min</th>\n",
       "      <th>25%</th>\n",
       "      <th>50%</th>\n",
       "      <th>75%</th>\n",
       "      <th>...</th>\n",
       "      <th>unique</th>\n",
       "      <th>top</th>\n",
       "      <th>freq</th>\n",
       "      <th>mean</th>\n",
       "      <th>std</th>\n",
       "      <th>min</th>\n",
       "      <th>25%</th>\n",
       "      <th>50%</th>\n",
       "      <th>75%</th>\n",
       "      <th>max</th>\n",
       "    </tr>\n",
       "    <tr>\n",
       "      <th>datetime</th>\n",
       "      <th></th>\n",
       "      <th></th>\n",
       "      <th></th>\n",
       "      <th></th>\n",
       "      <th></th>\n",
       "      <th></th>\n",
       "      <th></th>\n",
       "      <th></th>\n",
       "      <th></th>\n",
       "      <th></th>\n",
       "      <th></th>\n",
       "      <th></th>\n",
       "      <th></th>\n",
       "      <th></th>\n",
       "      <th></th>\n",
       "      <th></th>\n",
       "      <th></th>\n",
       "      <th></th>\n",
       "      <th></th>\n",
       "      <th></th>\n",
       "      <th></th>\n",
       "    </tr>\n",
       "  </thead>\n",
       "  <tbody>\n",
       "    <tr>\n",
       "      <th>1</th>\n",
       "      <td>129354.0</td>\n",
       "      <td>NaN</td>\n",
       "      <td>NaN</td>\n",
       "      <td>NaN</td>\n",
       "      <td>0.040579</td>\n",
       "      <td>0.197313</td>\n",
       "      <td>0.0</td>\n",
       "      <td>0.0</td>\n",
       "      <td>0.0</td>\n",
       "      <td>0.0</td>\n",
       "      <td>...</td>\n",
       "      <td>2</td>\n",
       "      <td>True</td>\n",
       "      <td>117435</td>\n",
       "      <td>NaN</td>\n",
       "      <td>NaN</td>\n",
       "      <td>NaN</td>\n",
       "      <td>NaN</td>\n",
       "      <td>NaN</td>\n",
       "      <td>NaN</td>\n",
       "      <td>NaN</td>\n",
       "    </tr>\n",
       "    <tr>\n",
       "      <th>2</th>\n",
       "      <td>148696.0</td>\n",
       "      <td>NaN</td>\n",
       "      <td>NaN</td>\n",
       "      <td>NaN</td>\n",
       "      <td>0.027634</td>\n",
       "      <td>0.163921</td>\n",
       "      <td>0.0</td>\n",
       "      <td>0.0</td>\n",
       "      <td>0.0</td>\n",
       "      <td>0.0</td>\n",
       "      <td>...</td>\n",
       "      <td>2</td>\n",
       "      <td>True</td>\n",
       "      <td>133639</td>\n",
       "      <td>NaN</td>\n",
       "      <td>NaN</td>\n",
       "      <td>NaN</td>\n",
       "      <td>NaN</td>\n",
       "      <td>NaN</td>\n",
       "      <td>NaN</td>\n",
       "      <td>NaN</td>\n",
       "    </tr>\n",
       "    <tr>\n",
       "      <th>3</th>\n",
       "      <td>223194.0</td>\n",
       "      <td>NaN</td>\n",
       "      <td>NaN</td>\n",
       "      <td>NaN</td>\n",
       "      <td>0.000000</td>\n",
       "      <td>0.000000</td>\n",
       "      <td>0.0</td>\n",
       "      <td>0.0</td>\n",
       "      <td>0.0</td>\n",
       "      <td>0.0</td>\n",
       "      <td>...</td>\n",
       "      <td>2</td>\n",
       "      <td>True</td>\n",
       "      <td>181872</td>\n",
       "      <td>NaN</td>\n",
       "      <td>NaN</td>\n",
       "      <td>NaN</td>\n",
       "      <td>NaN</td>\n",
       "      <td>NaN</td>\n",
       "      <td>NaN</td>\n",
       "      <td>NaN</td>\n",
       "    </tr>\n",
       "    <tr>\n",
       "      <th>4</th>\n",
       "      <td>261944.0</td>\n",
       "      <td>NaN</td>\n",
       "      <td>NaN</td>\n",
       "      <td>NaN</td>\n",
       "      <td>0.036252</td>\n",
       "      <td>0.186917</td>\n",
       "      <td>0.0</td>\n",
       "      <td>0.0</td>\n",
       "      <td>0.0</td>\n",
       "      <td>0.0</td>\n",
       "      <td>...</td>\n",
       "      <td>2</td>\n",
       "      <td>True</td>\n",
       "      <td>200599</td>\n",
       "      <td>NaN</td>\n",
       "      <td>NaN</td>\n",
       "      <td>NaN</td>\n",
       "      <td>NaN</td>\n",
       "      <td>NaN</td>\n",
       "      <td>NaN</td>\n",
       "      <td>NaN</td>\n",
       "    </tr>\n",
       "    <tr>\n",
       "      <th>5</th>\n",
       "      <td>331309.0</td>\n",
       "      <td>NaN</td>\n",
       "      <td>NaN</td>\n",
       "      <td>NaN</td>\n",
       "      <td>0.034602</td>\n",
       "      <td>0.182770</td>\n",
       "      <td>0.0</td>\n",
       "      <td>0.0</td>\n",
       "      <td>0.0</td>\n",
       "      <td>0.0</td>\n",
       "      <td>...</td>\n",
       "      <td>2</td>\n",
       "      <td>True</td>\n",
       "      <td>260105</td>\n",
       "      <td>NaN</td>\n",
       "      <td>NaN</td>\n",
       "      <td>NaN</td>\n",
       "      <td>NaN</td>\n",
       "      <td>NaN</td>\n",
       "      <td>NaN</td>\n",
       "      <td>NaN</td>\n",
       "    </tr>\n",
       "    <tr>\n",
       "      <th>6</th>\n",
       "      <td>347616.0</td>\n",
       "      <td>NaN</td>\n",
       "      <td>NaN</td>\n",
       "      <td>NaN</td>\n",
       "      <td>0.000000</td>\n",
       "      <td>0.000000</td>\n",
       "      <td>0.0</td>\n",
       "      <td>0.0</td>\n",
       "      <td>0.0</td>\n",
       "      <td>0.0</td>\n",
       "      <td>...</td>\n",
       "      <td>2</td>\n",
       "      <td>True</td>\n",
       "      <td>271977</td>\n",
       "      <td>NaN</td>\n",
       "      <td>NaN</td>\n",
       "      <td>NaN</td>\n",
       "      <td>NaN</td>\n",
       "      <td>NaN</td>\n",
       "      <td>NaN</td>\n",
       "      <td>NaN</td>\n",
       "    </tr>\n",
       "    <tr>\n",
       "      <th>7</th>\n",
       "      <td>340534.0</td>\n",
       "      <td>NaN</td>\n",
       "      <td>NaN</td>\n",
       "      <td>NaN</td>\n",
       "      <td>0.039485</td>\n",
       "      <td>0.194746</td>\n",
       "      <td>0.0</td>\n",
       "      <td>0.0</td>\n",
       "      <td>0.0</td>\n",
       "      <td>0.0</td>\n",
       "      <td>...</td>\n",
       "      <td>2</td>\n",
       "      <td>True</td>\n",
       "      <td>262002</td>\n",
       "      <td>NaN</td>\n",
       "      <td>NaN</td>\n",
       "      <td>NaN</td>\n",
       "      <td>NaN</td>\n",
       "      <td>NaN</td>\n",
       "      <td>NaN</td>\n",
       "      <td>NaN</td>\n",
       "    </tr>\n",
       "    <tr>\n",
       "      <th>8</th>\n",
       "      <td>345209.0</td>\n",
       "      <td>NaN</td>\n",
       "      <td>NaN</td>\n",
       "      <td>NaN</td>\n",
       "      <td>0.000000</td>\n",
       "      <td>0.000000</td>\n",
       "      <td>0.0</td>\n",
       "      <td>0.0</td>\n",
       "      <td>0.0</td>\n",
       "      <td>0.0</td>\n",
       "      <td>...</td>\n",
       "      <td>2</td>\n",
       "      <td>True</td>\n",
       "      <td>273448</td>\n",
       "      <td>NaN</td>\n",
       "      <td>NaN</td>\n",
       "      <td>NaN</td>\n",
       "      <td>NaN</td>\n",
       "      <td>NaN</td>\n",
       "      <td>NaN</td>\n",
       "      <td>NaN</td>\n",
       "    </tr>\n",
       "    <tr>\n",
       "      <th>9</th>\n",
       "      <td>335189.0</td>\n",
       "      <td>NaN</td>\n",
       "      <td>NaN</td>\n",
       "      <td>NaN</td>\n",
       "      <td>0.027999</td>\n",
       "      <td>0.164970</td>\n",
       "      <td>0.0</td>\n",
       "      <td>0.0</td>\n",
       "      <td>0.0</td>\n",
       "      <td>0.0</td>\n",
       "      <td>...</td>\n",
       "      <td>2</td>\n",
       "      <td>True</td>\n",
       "      <td>264146</td>\n",
       "      <td>NaN</td>\n",
       "      <td>NaN</td>\n",
       "      <td>NaN</td>\n",
       "      <td>NaN</td>\n",
       "      <td>NaN</td>\n",
       "      <td>NaN</td>\n",
       "      <td>NaN</td>\n",
       "    </tr>\n",
       "    <tr>\n",
       "      <th>10</th>\n",
       "      <td>322490.0</td>\n",
       "      <td>NaN</td>\n",
       "      <td>NaN</td>\n",
       "      <td>NaN</td>\n",
       "      <td>0.032854</td>\n",
       "      <td>0.178254</td>\n",
       "      <td>0.0</td>\n",
       "      <td>0.0</td>\n",
       "      <td>0.0</td>\n",
       "      <td>0.0</td>\n",
       "      <td>...</td>\n",
       "      <td>2</td>\n",
       "      <td>True</td>\n",
       "      <td>264056</td>\n",
       "      <td>NaN</td>\n",
       "      <td>NaN</td>\n",
       "      <td>NaN</td>\n",
       "      <td>NaN</td>\n",
       "      <td>NaN</td>\n",
       "      <td>NaN</td>\n",
       "      <td>NaN</td>\n",
       "    </tr>\n",
       "    <tr>\n",
       "      <th>11</th>\n",
       "      <td>272282.0</td>\n",
       "      <td>NaN</td>\n",
       "      <td>NaN</td>\n",
       "      <td>NaN</td>\n",
       "      <td>0.067720</td>\n",
       "      <td>0.251266</td>\n",
       "      <td>0.0</td>\n",
       "      <td>0.0</td>\n",
       "      <td>0.0</td>\n",
       "      <td>0.0</td>\n",
       "      <td>...</td>\n",
       "      <td>2</td>\n",
       "      <td>True</td>\n",
       "      <td>234865</td>\n",
       "      <td>NaN</td>\n",
       "      <td>NaN</td>\n",
       "      <td>NaN</td>\n",
       "      <td>NaN</td>\n",
       "      <td>NaN</td>\n",
       "      <td>NaN</td>\n",
       "      <td>NaN</td>\n",
       "    </tr>\n",
       "    <tr>\n",
       "      <th>12</th>\n",
       "      <td>238204.0</td>\n",
       "      <td>NaN</td>\n",
       "      <td>NaN</td>\n",
       "      <td>NaN</td>\n",
       "      <td>0.029769</td>\n",
       "      <td>0.169949</td>\n",
       "      <td>0.0</td>\n",
       "      <td>0.0</td>\n",
       "      <td>0.0</td>\n",
       "      <td>0.0</td>\n",
       "      <td>...</td>\n",
       "      <td>2</td>\n",
       "      <td>True</td>\n",
       "      <td>215030</td>\n",
       "      <td>NaN</td>\n",
       "      <td>NaN</td>\n",
       "      <td>NaN</td>\n",
       "      <td>NaN</td>\n",
       "      <td>NaN</td>\n",
       "      <td>NaN</td>\n",
       "      <td>NaN</td>\n",
       "    </tr>\n",
       "  </tbody>\n",
       "</table>\n",
       "<p>12 rows × 77 columns</p>\n",
       "</div>"
      ],
      "text/plain": [
       "           holiday                                                          \\\n",
       "             count unique top freq      mean       std  min  25%  50%  75%   \n",
       "datetime                                                                     \n",
       "1         129354.0    NaN NaN  NaN  0.040579  0.197313  0.0  0.0  0.0  0.0   \n",
       "2         148696.0    NaN NaN  NaN  0.027634  0.163921  0.0  0.0  0.0  0.0   \n",
       "3         223194.0    NaN NaN  NaN  0.000000  0.000000  0.0  0.0  0.0  0.0   \n",
       "4         261944.0    NaN NaN  NaN  0.036252  0.186917  0.0  0.0  0.0  0.0   \n",
       "5         331309.0    NaN NaN  NaN  0.034602  0.182770  0.0  0.0  0.0  0.0   \n",
       "6         347616.0    NaN NaN  NaN  0.000000  0.000000  0.0  0.0  0.0  0.0   \n",
       "7         340534.0    NaN NaN  NaN  0.039485  0.194746  0.0  0.0  0.0  0.0   \n",
       "8         345209.0    NaN NaN  NaN  0.000000  0.000000  0.0  0.0  0.0  0.0   \n",
       "9         335189.0    NaN NaN  NaN  0.027999  0.164970  0.0  0.0  0.0  0.0   \n",
       "10        322490.0    NaN NaN  NaN  0.032854  0.178254  0.0  0.0  0.0  0.0   \n",
       "11        272282.0    NaN NaN  NaN  0.067720  0.251266  0.0  0.0  0.0  0.0   \n",
       "12        238204.0    NaN NaN  NaN  0.029769  0.169949  0.0  0.0  0.0  0.0   \n",
       "\n",
       "          ... registered_customer                                              \\\n",
       "          ...              unique   top    freq mean  std  min  25%  50%  75%   \n",
       "datetime  ...                                                                   \n",
       "1         ...                   2  True  117435  NaN  NaN  NaN  NaN  NaN  NaN   \n",
       "2         ...                   2  True  133639  NaN  NaN  NaN  NaN  NaN  NaN   \n",
       "3         ...                   2  True  181872  NaN  NaN  NaN  NaN  NaN  NaN   \n",
       "4         ...                   2  True  200599  NaN  NaN  NaN  NaN  NaN  NaN   \n",
       "5         ...                   2  True  260105  NaN  NaN  NaN  NaN  NaN  NaN   \n",
       "6         ...                   2  True  271977  NaN  NaN  NaN  NaN  NaN  NaN   \n",
       "7         ...                   2  True  262002  NaN  NaN  NaN  NaN  NaN  NaN   \n",
       "8         ...                   2  True  273448  NaN  NaN  NaN  NaN  NaN  NaN   \n",
       "9         ...                   2  True  264146  NaN  NaN  NaN  NaN  NaN  NaN   \n",
       "10        ...                   2  True  264056  NaN  NaN  NaN  NaN  NaN  NaN   \n",
       "11        ...                   2  True  234865  NaN  NaN  NaN  NaN  NaN  NaN   \n",
       "12        ...                   2  True  215030  NaN  NaN  NaN  NaN  NaN  NaN   \n",
       "\n",
       "               \n",
       "          max  \n",
       "datetime       \n",
       "1         NaN  \n",
       "2         NaN  \n",
       "3         NaN  \n",
       "4         NaN  \n",
       "5         NaN  \n",
       "6         NaN  \n",
       "7         NaN  \n",
       "8         NaN  \n",
       "9         NaN  \n",
       "10        NaN  \n",
       "11        NaN  \n",
       "12        NaN  \n",
       "\n",
       "[12 rows x 77 columns]"
      ]
     },
     "execution_count": 7,
     "metadata": {},
     "output_type": "execute_result"
    }
   ],
   "source": [
    "groupedbymonth = dataset.groupby(dataset.datetime.dt.month)\n",
    "groupedbymonth.describe()"
   ]
  }
 ],
 "metadata": {
  "interpreter": {
   "hash": "e807af231ab76fa8d61bfd7225036ea56d9a5fd196f6be9249c14f77a5faaf3d"
  },
  "kernelspec": {
   "display_name": "Python 3.9.0 64-bit",
   "name": "python3"
  },
  "language_info": {
   "codemirror_mode": {
    "name": "ipython",
    "version": 3
   },
   "file_extension": ".py",
   "mimetype": "text/x-python",
   "name": "python",
   "nbconvert_exporter": "python",
   "pygments_lexer": "ipython3",
   "version": "3.9.0"
  },
  "orig_nbformat": 4
 },
 "nbformat": 4,
 "nbformat_minor": 2
}

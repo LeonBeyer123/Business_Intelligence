{
 "cells": [
  {
   "cell_type": "code",
   "execution_count": 607,
   "metadata": {},
   "outputs": [
    {
     "data": {
      "text/html": [
       "<div>\n",
       "<style scoped>\n",
       "    .dataframe tbody tr th:only-of-type {\n",
       "        vertical-align: middle;\n",
       "    }\n",
       "\n",
       "    .dataframe tbody tr th {\n",
       "        vertical-align: top;\n",
       "    }\n",
       "\n",
       "    .dataframe thead th {\n",
       "        text-align: right;\n",
       "    }\n",
       "</style>\n",
       "<table border=\"1\" class=\"dataframe\">\n",
       "  <thead>\n",
       "    <tr style=\"text-align: right;\">\n",
       "      <th></th>\n",
       "      <th>datetime</th>\n",
       "      <th>holiday</th>\n",
       "      <th>workingday</th>\n",
       "      <th>weather</th>\n",
       "      <th>temp</th>\n",
       "      <th>atemp</th>\n",
       "      <th>humidity</th>\n",
       "      <th>windspeed</th>\n",
       "      <th>registered_customer</th>\n",
       "    </tr>\n",
       "  </thead>\n",
       "  <tbody>\n",
       "    <tr>\n",
       "      <th>0</th>\n",
       "      <td>2019-01-01 00:00:09</td>\n",
       "      <td>0</td>\n",
       "      <td>0</td>\n",
       "      <td>clear, few clouds</td>\n",
       "      <td>9.84</td>\n",
       "      <td>14.395</td>\n",
       "      <td>81</td>\n",
       "      <td>0.0000</td>\n",
       "      <td>True</td>\n",
       "    </tr>\n",
       "    <tr>\n",
       "      <th>1</th>\n",
       "      <td>2019-01-01 00:00:41</td>\n",
       "      <td>0</td>\n",
       "      <td>0</td>\n",
       "      <td>clear, few clouds</td>\n",
       "      <td>9.84</td>\n",
       "      <td>14.395</td>\n",
       "      <td>81</td>\n",
       "      <td>0.0000</td>\n",
       "      <td>True</td>\n",
       "    </tr>\n",
       "    <tr>\n",
       "      <th>2</th>\n",
       "      <td>2019-01-01 00:01:20</td>\n",
       "      <td>0</td>\n",
       "      <td>0</td>\n",
       "      <td>clear, few clouds</td>\n",
       "      <td>9.84</td>\n",
       "      <td>14.395</td>\n",
       "      <td>81</td>\n",
       "      <td>0.0000</td>\n",
       "      <td>True</td>\n",
       "    </tr>\n",
       "    <tr>\n",
       "      <th>3</th>\n",
       "      <td>2019-01-01 00:04:12</td>\n",
       "      <td>0</td>\n",
       "      <td>0</td>\n",
       "      <td>clear, few clouds</td>\n",
       "      <td>9.84</td>\n",
       "      <td>14.395</td>\n",
       "      <td>81</td>\n",
       "      <td>0.0000</td>\n",
       "      <td>True</td>\n",
       "    </tr>\n",
       "    <tr>\n",
       "      <th>4</th>\n",
       "      <td>2019-01-01 00:15:19</td>\n",
       "      <td>0</td>\n",
       "      <td>0</td>\n",
       "      <td>clear, few clouds</td>\n",
       "      <td>9.84</td>\n",
       "      <td>14.395</td>\n",
       "      <td>81</td>\n",
       "      <td>0.0000</td>\n",
       "      <td>True</td>\n",
       "    </tr>\n",
       "    <tr>\n",
       "      <th>...</th>\n",
       "      <td>...</td>\n",
       "      <td>...</td>\n",
       "      <td>...</td>\n",
       "      <td>...</td>\n",
       "      <td>...</td>\n",
       "      <td>...</td>\n",
       "      <td>...</td>\n",
       "      <td>...</td>\n",
       "      <td>...</td>\n",
       "    </tr>\n",
       "    <tr>\n",
       "      <th>3296016</th>\n",
       "      <td>2020-12-31 23:55:56</td>\n",
       "      <td>0</td>\n",
       "      <td>1</td>\n",
       "      <td>clear, few clouds</td>\n",
       "      <td>10.66</td>\n",
       "      <td>13.635</td>\n",
       "      <td>65</td>\n",
       "      <td>8.9981</td>\n",
       "      <td>True</td>\n",
       "    </tr>\n",
       "    <tr>\n",
       "      <th>3296017</th>\n",
       "      <td>2020-12-31 23:55:59</td>\n",
       "      <td>0</td>\n",
       "      <td>1</td>\n",
       "      <td>clear, few clouds</td>\n",
       "      <td>10.66</td>\n",
       "      <td>13.635</td>\n",
       "      <td>65</td>\n",
       "      <td>8.9981</td>\n",
       "      <td>True</td>\n",
       "    </tr>\n",
       "    <tr>\n",
       "      <th>3296018</th>\n",
       "      <td>2020-12-31 23:57:17</td>\n",
       "      <td>0</td>\n",
       "      <td>1</td>\n",
       "      <td>clear, few clouds</td>\n",
       "      <td>10.66</td>\n",
       "      <td>13.635</td>\n",
       "      <td>65</td>\n",
       "      <td>8.9981</td>\n",
       "      <td>True</td>\n",
       "    </tr>\n",
       "    <tr>\n",
       "      <th>3296019</th>\n",
       "      <td>2020-12-31 23:57:28</td>\n",
       "      <td>0</td>\n",
       "      <td>1</td>\n",
       "      <td>clear, few clouds</td>\n",
       "      <td>10.66</td>\n",
       "      <td>13.635</td>\n",
       "      <td>65</td>\n",
       "      <td>8.9981</td>\n",
       "      <td>True</td>\n",
       "    </tr>\n",
       "    <tr>\n",
       "      <th>3296020</th>\n",
       "      <td>2020-12-31 23:58:10</td>\n",
       "      <td>0</td>\n",
       "      <td>1</td>\n",
       "      <td>clear, few clouds</td>\n",
       "      <td>10.66</td>\n",
       "      <td>13.635</td>\n",
       "      <td>65</td>\n",
       "      <td>8.9981</td>\n",
       "      <td>True</td>\n",
       "    </tr>\n",
       "  </tbody>\n",
       "</table>\n",
       "<p>3296021 rows × 9 columns</p>\n",
       "</div>"
      ],
      "text/plain": [
       "                   datetime  holiday  workingday            weather   temp  \\\n",
       "0       2019-01-01 00:00:09        0           0  clear, few clouds   9.84   \n",
       "1       2019-01-01 00:00:41        0           0  clear, few clouds   9.84   \n",
       "2       2019-01-01 00:01:20        0           0  clear, few clouds   9.84   \n",
       "3       2019-01-01 00:04:12        0           0  clear, few clouds   9.84   \n",
       "4       2019-01-01 00:15:19        0           0  clear, few clouds   9.84   \n",
       "...                     ...      ...         ...                ...    ...   \n",
       "3296016 2020-12-31 23:55:56        0           1  clear, few clouds  10.66   \n",
       "3296017 2020-12-31 23:55:59        0           1  clear, few clouds  10.66   \n",
       "3296018 2020-12-31 23:57:17        0           1  clear, few clouds  10.66   \n",
       "3296019 2020-12-31 23:57:28        0           1  clear, few clouds  10.66   \n",
       "3296020 2020-12-31 23:58:10        0           1  clear, few clouds  10.66   \n",
       "\n",
       "          atemp  humidity  windspeed  registered_customer  \n",
       "0        14.395        81     0.0000                 True  \n",
       "1        14.395        81     0.0000                 True  \n",
       "2        14.395        81     0.0000                 True  \n",
       "3        14.395        81     0.0000                 True  \n",
       "4        14.395        81     0.0000                 True  \n",
       "...         ...       ...        ...                  ...  \n",
       "3296016  13.635        65     8.9981                 True  \n",
       "3296017  13.635        65     8.9981                 True  \n",
       "3296018  13.635        65     8.9981                 True  \n",
       "3296019  13.635        65     8.9981                 True  \n",
       "3296020  13.635        65     8.9981                 True  \n",
       "\n",
       "[3296021 rows x 9 columns]"
      ]
     },
     "execution_count": 607,
     "metadata": {},
     "output_type": "execute_result"
    }
   ],
   "source": [
    "import pyarrow.parquet as pq\n",
    "import numpy as np\n",
    "import pandas as pd\n",
    "import matplotlib.pyplot as plt\n",
    "import seaborn as sns\n",
    "\n",
    "datasource = pq.read_table(\"escooter_history.parquet\")\n",
    "\n",
    "dataset = datasource.to_pandas()\n",
    "\n",
    "dataset"
   ]
  },
  {
   "cell_type": "code",
   "execution_count": 608,
   "metadata": {},
   "outputs": [
    {
     "data": {
      "text/html": [
       "<div>\n",
       "<style scoped>\n",
       "    .dataframe tbody tr th:only-of-type {\n",
       "        vertical-align: middle;\n",
       "    }\n",
       "\n",
       "    .dataframe tbody tr th {\n",
       "        vertical-align: top;\n",
       "    }\n",
       "\n",
       "    .dataframe thead th {\n",
       "        text-align: right;\n",
       "    }\n",
       "</style>\n",
       "<table border=\"1\" class=\"dataframe\">\n",
       "  <thead>\n",
       "    <tr style=\"text-align: right;\">\n",
       "      <th></th>\n",
       "      <th>count</th>\n",
       "      <th>temp</th>\n",
       "      <th>atemp</th>\n",
       "      <th>humidity</th>\n",
       "      <th>windspeed</th>\n",
       "      <th>holiday</th>\n",
       "      <th>workingday</th>\n",
       "    </tr>\n",
       "    <tr>\n",
       "      <th>datetime</th>\n",
       "      <th></th>\n",
       "      <th></th>\n",
       "      <th></th>\n",
       "      <th></th>\n",
       "      <th></th>\n",
       "      <th></th>\n",
       "      <th></th>\n",
       "    </tr>\n",
       "  </thead>\n",
       "  <tbody>\n",
       "    <tr>\n",
       "      <th>2019-01-01 00:00:00</th>\n",
       "      <td>16</td>\n",
       "      <td>9.84</td>\n",
       "      <td>14.395</td>\n",
       "      <td>81.0</td>\n",
       "      <td>0.0</td>\n",
       "      <td>0.0</td>\n",
       "      <td>0.0</td>\n",
       "    </tr>\n",
       "    <tr>\n",
       "      <th>2019-01-01 01:00:00</th>\n",
       "      <td>40</td>\n",
       "      <td>9.02</td>\n",
       "      <td>13.635</td>\n",
       "      <td>80.0</td>\n",
       "      <td>0.0</td>\n",
       "      <td>0.0</td>\n",
       "      <td>0.0</td>\n",
       "    </tr>\n",
       "  </tbody>\n",
       "</table>\n",
       "</div>"
      ],
      "text/plain": [
       "                     count  temp   atemp  humidity  windspeed  holiday  \\\n",
       "datetime                                                                 \n",
       "2019-01-01 00:00:00     16  9.84  14.395      81.0        0.0      0.0   \n",
       "2019-01-01 01:00:00     40  9.02  13.635      80.0        0.0      0.0   \n",
       "\n",
       "                     workingday  \n",
       "datetime                         \n",
       "2019-01-01 00:00:00         0.0  \n",
       "2019-01-01 01:00:00         0.0  "
      ]
     },
     "execution_count": 608,
     "metadata": {},
     "output_type": "execute_result"
    }
   ],
   "source": [
    "\n",
    "\n",
    "#print(weekdays)\n",
    "hourly_dataset = dataset.resample('H', on=\"datetime\").agg({\n",
    "    'registered_customer': ['count'],\n",
    "    'temp': ['mean'],\n",
    "    'atemp': ['mean'],\n",
    "    'humidity': ['mean'],\n",
    "    'windspeed': ['mean'],\n",
    "    'holiday': ['first'],\n",
    "    'workingday': ['first']\n",
    "})\n",
    "hourly_dataset.columns = hourly_dataset.columns.droplevel(1)\n",
    "hourly_dataset.rename({'registered_customer': 'count'}, axis=1, inplace=True)\n",
    "#hourly_dataset.drop('Weekday')\n",
    "hourly_dataset.head(2)"
   ]
  },
  {
   "cell_type": "code",
   "execution_count": 609,
   "metadata": {},
   "outputs": [],
   "source": [
    "hourly_dataset.isnull().values.any()\n",
    "hourly_dataset.dropna(inplace=True)"
   ]
  },
  {
   "cell_type": "markdown",
   "metadata": {},
   "source": [
    "## Encode Data\n"
   ]
  },
  {
   "cell_type": "code",
   "execution_count": 610,
   "metadata": {},
   "outputs": [],
   "source": [
    "\n",
    "hourly_dataset['weekday'] = hourly_dataset.index.day_name()\n",
    "hourly_dataset['year'] = hourly_dataset.index.year\n",
    "hourly_dataset['month'] = hourly_dataset.index.month\n",
    "hourly_dataset['day'] = hourly_dataset.index.day\n",
    "hourly_dataset['hour'] = hourly_dataset.index.hour\n",
    "cat_features = ['weekday', 'year', 'month', 'day', 'hour']\n",
    "for cat_feature in cat_features:\n",
    "    \n",
    "    tmp_encoded = pd.get_dummies(hourly_dataset[str(cat_feature)], prefix=cat_feature)\n",
    "    hourly_dataset = hourly_dataset.join(tmp_encoded)\n",
    "    hourly_dataset.drop([cat_feature], axis=1, inplace=True)\n",
    "\n",
    "#encoded_weekdays = pd.get_dummies(hourly_dataset['weekday'])\n",
    "#hourly_dataset = hourly_dataset.join(encoded_weekdays)\n",
    "#hourly_dataset = hourly_dataset.join(encoded_hour)\n"
   ]
  },
  {
   "cell_type": "code",
   "execution_count": 611,
   "metadata": {},
   "outputs": [],
   "source": [
    "#corr = hourly_dataset.corr()\n",
    "#f, ax = plt.subplots(figsize=(30, 20))\n",
    "##cmap = sns.diverging_palette(230, 20, as_cmap=True)\n",
    "#sns.heatmap(corr,center=0,\n",
    "#square=True, linewidths=.5,)"
   ]
  },
  {
   "cell_type": "markdown",
   "metadata": {},
   "source": [
    "# Split Training - Test\n",
    "\n"
   ]
  },
  {
   "cell_type": "code",
   "execution_count": 612,
   "metadata": {},
   "outputs": [],
   "source": [
    "from sklearn.model_selection import train_test_split\n",
    "hourly_dataset = hourly_dataset.reset_index()\n",
    "hourly_dataset = hourly_dataset.drop(columns=['datetime'], axis=1)\n",
    "#hourly_dataset['datetime'] = hourly_dataset['datetime'].astype(np.int64)\n",
    "X = hourly_dataset.drop(columns=['count'], axis=1)\n",
    "#X = hourly_dataset[['year_2019','year_2020']]\n",
    "y = hourly_dataset['count']\n",
    "\n",
    "X_train, X_test, y_train, y_test = train_test_split(X, y, test_size=0.25, random_state=27)\n"
   ]
  },
  {
   "cell_type": "markdown",
   "metadata": {},
   "source": []
  },
  {
   "cell_type": "markdown",
   "metadata": {},
   "source": [
    "# Simple Linear Regression\n"
   ]
  },
  {
   "cell_type": "code",
   "execution_count": 613,
   "metadata": {},
   "outputs": [
    {
     "data": {
      "text/plain": [
       "<AxesSubplot:ylabel='Coefficient'>"
      ]
     },
     "execution_count": 613,
     "metadata": {},
     "output_type": "execute_result"
    },
    {
     "data": {
      "image/png": "[encoded data removed]",
      "text/plain": [
       "<Figure size 1296x288 with 1 Axes>"
      ]
     },
     "metadata": {
      "needs_background": "light"
     },
     "output_type": "display_data"
    }
   ],
   "source": [
    "from sklearn.linear_model import LinearRegression\n",
    "from sklearn import metrics\n",
    "\n",
    "\n",
    "lr = LinearRegression()\n",
    "lr.fit(X_train, y_train)\n",
    "\n",
    "\n",
    "plt.figure(figsize = (18,4))\n",
    "coeff = pd.DataFrame(lr.coef_, index = X.columns, columns = ['Coefficient'])\n",
    "sns.barplot(x = coeff.index, y = 'Coefficient', data = coeff, color = 'red')\n",
    "\n"
   ]
  },
  {
   "cell_type": "code",
   "execution_count": 614,
   "metadata": {},
   "outputs": [],
   "source": [
    "#Test\n",
    "y_pred = lr.predict(X_test)\n",
    "actual_predicted = pd.DataFrame({'Actual': y_test, 'Predicted': y_pred})"
   ]
  },
  {
   "cell_type": "code",
   "execution_count": 615,
   "metadata": {},
   "outputs": [
    {
     "data": {
      "text/plain": [
       "<AxesSubplot:xlabel='Actual', ylabel='Predicted'>"
      ]
     },
     "execution_count": 615,
     "metadata": {},
     "output_type": "execute_result"
    },
    {
     "data": {
      "image/png": "[encoded data removed]",
      "text/plain": [
       "<Figure size 432x288 with 1 Axes>"
      ]
     },
     "metadata": {
      "needs_background": "light"
     },
     "output_type": "display_data"
    }
   ],
   "source": [
    "sns.scatterplot(data=actual_predicted, x=\"Actual\", y=\"Predicted\")"
   ]
  },
  {
   "cell_type": "code",
   "execution_count": 620,
   "metadata": {},
   "outputs": [
    {
     "name": "stdout",
     "output_type": "stream",
     "text": [
      "Mean Squared Error: 9613.62357749784\n"
     ]
    }
   ],
   "source": [
    "print('Mean Squared Error:', metrics.mean_squared_error(y_test, y_pred))"
   ]
  },
  {
   "cell_type": "markdown",
   "metadata": {},
   "source": [
    "# Test Ridge Regression"
   ]
  },
  {
   "cell_type": "code",
   "execution_count": 627,
   "metadata": {},
   "outputs": [
    {
     "name": "stdout",
     "output_type": "stream",
     "text": [
      "Mean Squared Error: 9613.616622304367\n"
     ]
    }
   ],
   "source": [
    "from sklearn.linear_model import Ridge\n",
    "\n",
    "temp_mse = 9999.9\n",
    "for i in np.linspace(0, 20, 60):\n",
    "    rr = Ridge(alpha= i, normalize=True)\n",
    "    rr.fit(X_train, y_train)\n",
    "    rr_pred = rr.predict(X_test)\n",
    "\n",
    "    mse = metrics.mean_squared_error(y_test, rr_pred)\n",
    "    #print('Mean Squared Error:', mse)\n",
    "    if(mse < temp_mse):\n",
    "        temp_mse = mse\n",
    "print('Mean Squared Error:', temp_mse)"
   ]
  },
  {
   "cell_type": "markdown",
   "metadata": {},
   "source": []
  },
  {
   "cell_type": "code",
   "execution_count": 629,
   "metadata": {},
   "outputs": [
    {
     "ename": "SyntaxError",
     "evalue": "invalid syntax (<ipython-input-629-fc3e83cd5638>, line 7)",
     "output_type": "error",
     "traceback": [
      "\u001b[1;36m  File \u001b[1;32m\"<ipython-input-629-fc3e83cd5638>\"\u001b[1;36m, line \u001b[1;32m7\u001b[0m\n\u001b[1;33m    lassor lassor _pred = lassor .predict(X_test)\u001b[0m\n\u001b[1;37m           ^\u001b[0m\n\u001b[1;31mSyntaxError\u001b[0m\u001b[1;31m:\u001b[0m invalid syntax\n"
     ]
    }
   ],
   "source": [
    "from sklearn.linear_model import Lasso\n",
    "\n",
    "temp_mse = 9999.9\n",
    "for i in np.logspace(-10, -1, 60):\n",
    "    lassor = Ridge(alpha= i, normalize=True, tol = 0.1)\n",
    "    lassor.fit(X_train, y_train)\n",
    "    lassor_pred = lassor.predict(X_test)\n",
    "\n",
    "    mse = metrics.mean_squared_error(y_test, rr_pred)\n",
    "    #print('Mean Squared Error:', mse)\n",
    "    if(mse < temp_mse):\n",
    "        temp_mse = mse\n",
    "print('Mean Squared Error:', temp_mse)"
   ]
  }
 ],
 "metadata": {
  "interpreter": {
   "hash": "97ae724bfa85b9b34df7982b8bb8c7216f435b92902d749e4263f71162bea840"
  },
  "kernelspec": {
   "display_name": "Python 3.8.8 64-bit ('base': conda)",
   "name": "python3"
  },
  "language_info": {
   "codemirror_mode": {
    "name": "ipython",
    "version": 3
   },
   "file_extension": ".py",
   "mimetype": "text/x-python",
   "name": "python",
   "nbconvert_exporter": "python",
   "pygments_lexer": "ipython3",
   "version": "3.8.8"
  },
  "orig_nbformat": 4
 },
 "nbformat": 4,
 "nbformat_minor": 2
}

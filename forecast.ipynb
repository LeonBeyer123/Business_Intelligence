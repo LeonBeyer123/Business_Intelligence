{
 "cells": [
  {
   "cell_type": "code",
   "execution_count": 2746,
   "metadata": {},
   "outputs": [
    {
     "data": {
      "text/html": [
       "<div>\n",
       "<style scoped>\n",
       "    .dataframe tbody tr th:only-of-type {\n",
       "        vertical-align: middle;\n",
       "    }\n",
       "\n",
       "    .dataframe tbody tr th {\n",
       "        vertical-align: top;\n",
       "    }\n",
       "\n",
       "    .dataframe thead th {\n",
       "        text-align: right;\n",
       "    }\n",
       "</style>\n",
       "<table border=\"1\" class=\"dataframe\">\n",
       "  <thead>\n",
       "    <tr style=\"text-align: right;\">\n",
       "      <th></th>\n",
       "      <th>datetime</th>\n",
       "      <th>holiday</th>\n",
       "      <th>workingday</th>\n",
       "      <th>weather</th>\n",
       "      <th>temp</th>\n",
       "      <th>atemp</th>\n",
       "      <th>humidity</th>\n",
       "      <th>windspeed</th>\n",
       "      <th>registered_customer</th>\n",
       "    </tr>\n",
       "  </thead>\n",
       "  <tbody>\n",
       "    <tr>\n",
       "      <th>0</th>\n",
       "      <td>2019-01-01 00:00:09</td>\n",
       "      <td>0</td>\n",
       "      <td>0</td>\n",
       "      <td>clear, few clouds</td>\n",
       "      <td>9.84</td>\n",
       "      <td>14.395</td>\n",
       "      <td>81</td>\n",
       "      <td>6.0032</td>\n",
       "      <td>True</td>\n",
       "    </tr>\n",
       "    <tr>\n",
       "      <th>1</th>\n",
       "      <td>2019-01-01 00:00:41</td>\n",
       "      <td>0</td>\n",
       "      <td>0</td>\n",
       "      <td>clear, few clouds</td>\n",
       "      <td>9.84</td>\n",
       "      <td>14.395</td>\n",
       "      <td>81</td>\n",
       "      <td>6.0032</td>\n",
       "      <td>True</td>\n",
       "    </tr>\n",
       "    <tr>\n",
       "      <th>2</th>\n",
       "      <td>2019-01-01 00:01:20</td>\n",
       "      <td>0</td>\n",
       "      <td>0</td>\n",
       "      <td>clear, few clouds</td>\n",
       "      <td>9.84</td>\n",
       "      <td>14.395</td>\n",
       "      <td>81</td>\n",
       "      <td>6.0032</td>\n",
       "      <td>True</td>\n",
       "    </tr>\n",
       "    <tr>\n",
       "      <th>3</th>\n",
       "      <td>2019-01-01 00:04:12</td>\n",
       "      <td>0</td>\n",
       "      <td>0</td>\n",
       "      <td>clear, few clouds</td>\n",
       "      <td>9.84</td>\n",
       "      <td>14.395</td>\n",
       "      <td>81</td>\n",
       "      <td>6.0032</td>\n",
       "      <td>True</td>\n",
       "    </tr>\n",
       "    <tr>\n",
       "      <th>4</th>\n",
       "      <td>2019-01-01 00:15:19</td>\n",
       "      <td>0</td>\n",
       "      <td>0</td>\n",
       "      <td>clear, few clouds</td>\n",
       "      <td>9.84</td>\n",
       "      <td>14.395</td>\n",
       "      <td>81</td>\n",
       "      <td>6.0032</td>\n",
       "      <td>True</td>\n",
       "    </tr>\n",
       "    <tr>\n",
       "      <th>...</th>\n",
       "      <td>...</td>\n",
       "      <td>...</td>\n",
       "      <td>...</td>\n",
       "      <td>...</td>\n",
       "      <td>...</td>\n",
       "      <td>...</td>\n",
       "      <td>...</td>\n",
       "      <td>...</td>\n",
       "      <td>...</td>\n",
       "    </tr>\n",
       "    <tr>\n",
       "      <th>3296016</th>\n",
       "      <td>2020-12-31 23:55:56</td>\n",
       "      <td>0</td>\n",
       "      <td>1</td>\n",
       "      <td>clear, few clouds</td>\n",
       "      <td>10.66</td>\n",
       "      <td>13.635</td>\n",
       "      <td>65</td>\n",
       "      <td>8.9981</td>\n",
       "      <td>True</td>\n",
       "    </tr>\n",
       "    <tr>\n",
       "      <th>3296017</th>\n",
       "      <td>2020-12-31 23:55:59</td>\n",
       "      <td>0</td>\n",
       "      <td>1</td>\n",
       "      <td>clear, few clouds</td>\n",
       "      <td>10.66</td>\n",
       "      <td>13.635</td>\n",
       "      <td>65</td>\n",
       "      <td>8.9981</td>\n",
       "      <td>True</td>\n",
       "    </tr>\n",
       "    <tr>\n",
       "      <th>3296018</th>\n",
       "      <td>2020-12-31 23:57:17</td>\n",
       "      <td>0</td>\n",
       "      <td>1</td>\n",
       "      <td>clear, few clouds</td>\n",
       "      <td>10.66</td>\n",
       "      <td>13.635</td>\n",
       "      <td>65</td>\n",
       "      <td>8.9981</td>\n",
       "      <td>True</td>\n",
       "    </tr>\n",
       "    <tr>\n",
       "      <th>3296019</th>\n",
       "      <td>2020-12-31 23:57:28</td>\n",
       "      <td>0</td>\n",
       "      <td>1</td>\n",
       "      <td>clear, few clouds</td>\n",
       "      <td>10.66</td>\n",
       "      <td>13.635</td>\n",
       "      <td>65</td>\n",
       "      <td>8.9981</td>\n",
       "      <td>True</td>\n",
       "    </tr>\n",
       "    <tr>\n",
       "      <th>3296020</th>\n",
       "      <td>2020-12-31 23:58:10</td>\n",
       "      <td>0</td>\n",
       "      <td>1</td>\n",
       "      <td>clear, few clouds</td>\n",
       "      <td>10.66</td>\n",
       "      <td>13.635</td>\n",
       "      <td>65</td>\n",
       "      <td>8.9981</td>\n",
       "      <td>True</td>\n",
       "    </tr>\n",
       "  </tbody>\n",
       "</table>\n",
       "<p>3295398 rows × 9 columns</p>\n",
       "</div>"
      ],
      "text/plain": [
       "                   datetime  holiday  workingday            weather   temp  \\\n",
       "0       2019-01-01 00:00:09        0           0  clear, few clouds   9.84   \n",
       "1       2019-01-01 00:00:41        0           0  clear, few clouds   9.84   \n",
       "2       2019-01-01 00:01:20        0           0  clear, few clouds   9.84   \n",
       "3       2019-01-01 00:04:12        0           0  clear, few clouds   9.84   \n",
       "4       2019-01-01 00:15:19        0           0  clear, few clouds   9.84   \n",
       "...                     ...      ...         ...                ...    ...   \n",
       "3296016 2020-12-31 23:55:56        0           1  clear, few clouds  10.66   \n",
       "3296017 2020-12-31 23:55:59        0           1  clear, few clouds  10.66   \n",
       "3296018 2020-12-31 23:57:17        0           1  clear, few clouds  10.66   \n",
       "3296019 2020-12-31 23:57:28        0           1  clear, few clouds  10.66   \n",
       "3296020 2020-12-31 23:58:10        0           1  clear, few clouds  10.66   \n",
       "\n",
       "          atemp  humidity  windspeed  registered_customer  \n",
       "0        14.395        81     6.0032                 True  \n",
       "1        14.395        81     6.0032                 True  \n",
       "2        14.395        81     6.0032                 True  \n",
       "3        14.395        81     6.0032                 True  \n",
       "4        14.395        81     6.0032                 True  \n",
       "...         ...       ...        ...                  ...  \n",
       "3296016  13.635        65     8.9981                 True  \n",
       "3296017  13.635        65     8.9981                 True  \n",
       "3296018  13.635        65     8.9981                 True  \n",
       "3296019  13.635        65     8.9981                 True  \n",
       "3296020  13.635        65     8.9981                 True  \n",
       "\n",
       "[3295398 rows x 9 columns]"
      ]
     },
     "execution_count": 2746,
     "metadata": {},
     "output_type": "execute_result"
    }
   ],
   "source": [
    "import pyarrow.parquet as pq\n",
    "import numpy as np\n",
    "import pandas as pd\n",
    "import matplotlib.pyplot as plt\n",
    "import seaborn as sns\n",
    "\n",
    "datasource = pq.read_table(\"escooter_history.parquet\")\n",
    "\n",
    "dataset = datasource.to_pandas()\n",
    "dataset = dataset[dataset.humidity!= 0]\n",
    "dataset['windspeed'].replace(to_replace=0.0, method='bfill', inplace=True)\n",
    "dataset"
   ]
  },
  {
   "cell_type": "markdown",
   "metadata": {},
   "source": [
    "## Größe des ursprünglichen Datensatzes"
   ]
  },
  {
   "cell_type": "code",
   "execution_count": 2747,
   "metadata": {},
   "outputs": [
    {
     "data": {
      "text/plain": [
       "(3295398, 9)"
      ]
     },
     "execution_count": 2747,
     "metadata": {},
     "output_type": "execute_result"
    }
   ],
   "source": [
    "dataset.shape"
   ]
  },
  {
   "cell_type": "code",
   "execution_count": 2748,
   "metadata": {},
   "outputs": [
    {
     "data": {
      "text/plain": [
       "array(['clear, few clouds', 'cloudy, mist',\n",
       "       'light snow or rain or thunderstorm',\n",
       "       'heacy rain or thunderstorm or snow or ice pallets'], dtype=object)"
      ]
     },
     "execution_count": 2748,
     "metadata": {},
     "output_type": "execute_result"
    }
   ],
   "source": [
    "dataset['weather'].unique()"
   ]
  },
  {
   "cell_type": "markdown",
   "metadata": {},
   "source": [
    "# Daten in Stundenblöcke gruppieren"
   ]
  },
  {
   "cell_type": "code",
   "execution_count": 2749,
   "metadata": {},
   "outputs": [
    {
     "data": {
      "text/html": [
       "<div>\n",
       "<style scoped>\n",
       "    .dataframe tbody tr th:only-of-type {\n",
       "        vertical-align: middle;\n",
       "    }\n",
       "\n",
       "    .dataframe tbody tr th {\n",
       "        vertical-align: top;\n",
       "    }\n",
       "\n",
       "    .dataframe thead th {\n",
       "        text-align: right;\n",
       "    }\n",
       "</style>\n",
       "<table border=\"1\" class=\"dataframe\">\n",
       "  <thead>\n",
       "    <tr style=\"text-align: right;\">\n",
       "      <th></th>\n",
       "      <th>count</th>\n",
       "      <th>temp</th>\n",
       "      <th>humidity</th>\n",
       "      <th>windspeed</th>\n",
       "      <th>holiday</th>\n",
       "      <th>workingday</th>\n",
       "    </tr>\n",
       "    <tr>\n",
       "      <th>datetime</th>\n",
       "      <th></th>\n",
       "      <th></th>\n",
       "      <th></th>\n",
       "      <th></th>\n",
       "      <th></th>\n",
       "      <th></th>\n",
       "    </tr>\n",
       "  </thead>\n",
       "  <tbody>\n",
       "    <tr>\n",
       "      <th>2019-01-01 00:00:00</th>\n",
       "      <td>16</td>\n",
       "      <td>9.84</td>\n",
       "      <td>81.0</td>\n",
       "      <td>6.0032</td>\n",
       "      <td>0.0</td>\n",
       "      <td>0.0</td>\n",
       "    </tr>\n",
       "    <tr>\n",
       "      <th>2019-01-01 01:00:00</th>\n",
       "      <td>40</td>\n",
       "      <td>9.02</td>\n",
       "      <td>80.0</td>\n",
       "      <td>6.0032</td>\n",
       "      <td>0.0</td>\n",
       "      <td>0.0</td>\n",
       "    </tr>\n",
       "  </tbody>\n",
       "</table>\n",
       "</div>"
      ],
      "text/plain": [
       "                     count  temp  humidity  windspeed  holiday  workingday\n",
       "datetime                                                                  \n",
       "2019-01-01 00:00:00     16  9.84      81.0     6.0032      0.0         0.0\n",
       "2019-01-01 01:00:00     40  9.02      80.0     6.0032      0.0         0.0"
      ]
     },
     "execution_count": 2749,
     "metadata": {},
     "output_type": "execute_result"
    }
   ],
   "source": [
    "\n",
    "\n",
    "hourly_dataset = dataset.resample('H', on=\"datetime\").agg({\n",
    "    'registered_customer': ['count'],\n",
    "    'temp': ['mean'],\n",
    "    #'atemp': ['mean'],\n",
    "    #'weather': ['first'],\n",
    "    'humidity': ['mean'],\n",
    "    'windspeed': ['mean'],\n",
    "    'holiday': ['first'],\n",
    "    'workingday': ['first']\n",
    "})\n",
    "hourly_dataset.columns = hourly_dataset.columns.droplevel(1)\n",
    "hourly_dataset.rename({'registered_customer': 'count'}, axis=1, inplace=True)\n",
    "#hourly_dataset.drop('Weekday')\n",
    "hourly_dataset.head(2)"
   ]
  },
  {
   "cell_type": "code",
   "execution_count": 2750,
   "metadata": {},
   "outputs": [],
   "source": [
    "hourly_dataset.isnull().values.any()\n",
    "hourly_dataset.dropna(inplace=True)\n"
   ]
  },
  {
   "cell_type": "markdown",
   "metadata": {},
   "source": [
    "## Größe des Datensatzes nach Gruppierung"
   ]
  },
  {
   "cell_type": "code",
   "execution_count": 2751,
   "metadata": {},
   "outputs": [
    {
     "data": {
      "text/plain": [
       "(17357, 6)"
      ]
     },
     "execution_count": 2751,
     "metadata": {},
     "output_type": "execute_result"
    }
   ],
   "source": [
    "hourly_dataset.shape"
   ]
  },
  {
   "cell_type": "code",
   "execution_count": 2752,
   "metadata": {},
   "outputs": [
    {
     "data": {
      "image/png": "[encoded data removed]",
      "text/plain": [
       "<Figure size 1152x576 with 2 Axes>"
      ]
     },
     "metadata": {
      "needs_background": "light"
     },
     "output_type": "display_data"
    }
   ],
   "source": [
    "plt.figure(figsize=(16,8))\n",
    "sns.heatmap(hourly_dataset.corr(), annot=True)\n",
    "plt.show()"
   ]
  },
  {
   "cell_type": "code",
   "execution_count": null,
   "metadata": {},
   "outputs": [],
   "source": []
  },
  {
   "cell_type": "markdown",
   "metadata": {},
   "source": []
  },
  {
   "cell_type": "markdown",
   "metadata": {},
   "source": [
    "## Encode Data\n"
   ]
  },
  {
   "cell_type": "code",
   "execution_count": 2753,
   "metadata": {},
   "outputs": [],
   "source": [
    "from sklearn.preprocessing import OneHotEncoder\n",
    "from sklearn.compose import ColumnTransformer\n",
    "\n",
    "# Kategorische Features die encoded werden sollen\n",
    "cat_features = ['weekday', 'month', 'day', 'hour', ]#'weather']\n",
    "encoder = ColumnTransformer(\n",
    "    [('OHE', OneHotEncoder(),cat_features)],\n",
    "    remainder = 'passthrough'\n",
    "    )\n",
    "def augment_date_information(dataset_input):\n",
    "    dataset_in = dataset_input.copy()\n",
    "    #dataset_in.set_index('datetime')\n",
    "    dataset_in['weekday'] = dataset_in.index.dayofweek\n",
    "    dataset_in['year'] = dataset_in.index.year\n",
    "    dataset_in['month'] = dataset_in.index.month\n",
    "    dataset_in['day'] = dataset_in.index.day\n",
    "    dataset_in['hour'] = dataset_in.index.hour\n",
    "    return dataset_in\n",
    "\n",
    "\n",
    "hourly_dataset = augment_date_information(hourly_dataset)\n",
    "\n",
    "\n",
    "# function necessary for later prediction\n",
    "def encode_for_regression(dataset_input):\n",
    "    dataset_in = dataset_input.copy()\n",
    "    encoder.fit_transform(dataset_in)\n",
    "    #print(dataset_in.describe())\n",
    "\n",
    "    for cat_feature in cat_features:\n",
    "        tmp_encoded = pd.get_dummies(dataset_in[str(cat_feature)], prefix=cat_feature)\n",
    "        dataset_in = dataset_in.join(tmp_encoded)\n",
    "        dataset_in.drop([cat_feature], axis=1, inplace=True)\n",
    "    return dataset_in\n",
    "\n",
    "labels = hourly_dataset['count']\n",
    "hourly_dataset.drop(columns=\"count\", inplace=True)\n",
    "hourly_dataset = encode_for_regression(hourly_dataset)\n",
    "hourly_dataset = hourly_dataset.join(labels)"
   ]
  },
  {
   "cell_type": "markdown",
   "metadata": {},
   "source": [
    "# Split Training - Test\n",
    "\n"
   ]
  },
  {
   "cell_type": "code",
   "execution_count": 2754,
   "metadata": {},
   "outputs": [],
   "source": [
    "from sklearn.model_selection import train_test_split\n",
    "hourly_dataset = hourly_dataset.reset_index()\n",
    "hourly_dataset = hourly_dataset.drop(columns=['datetime'], axis=1)\n",
    "\n",
    "X = hourly_dataset.drop(columns=['count'], axis=1)\n",
    "y = hourly_dataset['count']\n",
    "\n",
    "X_train, X_test, y_train, y_test = train_test_split(X, y, test_size=0.25, random_state=27)\n"
   ]
  },
  {
   "cell_type": "markdown",
   "metadata": {},
   "source": []
  },
  {
   "cell_type": "markdown",
   "metadata": {},
   "source": [
    "# Simple Linear Regression\n"
   ]
  },
  {
   "cell_type": "code",
   "execution_count": 2755,
   "metadata": {},
   "outputs": [
    {
     "data": {
      "text/plain": [
       "<Figure size 1296x288 with 0 Axes>"
      ]
     },
     "metadata": {},
     "output_type": "display_data"
    }
   ],
   "source": [
    "from sklearn.linear_model import LinearRegression\n",
    "from sklearn import metrics\n",
    "\n",
    "\n",
    "lr = LinearRegression()\n",
    "lr.fit(X_train, y_train)\n",
    "\n",
    "\n",
    "plt.figure(figsize = (18,4))\n",
    "coeff = pd.DataFrame(lr.coef_, index = X.columns, columns = ['Coefficient'])\n",
    "coeff = coeff.iloc[0:30]\n",
    "#print(coeff)\n"
   ]
  },
  {
   "cell_type": "markdown",
   "metadata": {},
   "source": [
    "## Interpretation der Koeffizienten"
   ]
  },
  {
   "cell_type": "code",
   "execution_count": 2756,
   "metadata": {},
   "outputs": [
    {
     "data": {
      "text/plain": [
       "<AxesSubplot:>"
      ]
     },
     "execution_count": 2756,
     "metadata": {},
     "output_type": "execute_result"
    },
    {
     "data": {
      "image/png": "[encoded data removed]",
      "text/plain": [
       "<Figure size 648x504 with 1 Axes>"
      ]
     },
     "metadata": {
      "needs_background": "light"
     },
     "output_type": "display_data"
    }
   ],
   "source": [
    "coeff.plot(kind=\"barh\", figsize=(9, 7))"
   ]
  },
  {
   "cell_type": "code",
   "execution_count": 2757,
   "metadata": {},
   "outputs": [],
   "source": [
    "#Test\n",
    "y_pred = lr.predict(X_test)\n",
    "actual_predicted_lr = pd.DataFrame({'Actual': y_test, 'Predicted': y_pred})"
   ]
  },
  {
   "cell_type": "markdown",
   "metadata": {},
   "source": [
    "## Vorhergesagte und tatsächliche anzahl an Ausleihungen"
   ]
  },
  {
   "cell_type": "code",
   "execution_count": 2758,
   "metadata": {},
   "outputs": [
    {
     "data": {
      "text/plain": [
       "<AxesSubplot:xlabel='Actual', ylabel='Predicted'>"
      ]
     },
     "execution_count": 2758,
     "metadata": {},
     "output_type": "execute_result"
    },
    {
     "data": {
      "image/png": "[encoded data removed]",
      "text/plain": [
       "<Figure size 432x288 with 1 Axes>"
      ]
     },
     "metadata": {
      "needs_background": "light"
     },
     "output_type": "display_data"
    }
   ],
   "source": [
    "sns.scatterplot(data=actual_predicted_lr, x=\"Actual\", y=\"Predicted\")"
   ]
  },
  {
   "cell_type": "markdown",
   "metadata": {},
   "source": [
    "## Häufigkeitsverteilung der vorhersagen bei Linearer Regression"
   ]
  },
  {
   "cell_type": "code",
   "execution_count": 2759,
   "metadata": {},
   "outputs": [
    {
     "data": {
      "text/plain": [
       "[Text(0.5, 0, 'count'), Text(0, 0.5, 'frequency')]"
      ]
     },
     "execution_count": 2759,
     "metadata": {},
     "output_type": "execute_result"
    },
    {
     "data": {
      "image/png": "[encoded data removed]",
      "text/plain": [
       "<Figure size 1152x288 with 1 Axes>"
      ]
     },
     "metadata": {
      "needs_background": "light"
     },
     "output_type": "display_data"
    }
   ],
   "source": [
    "\n",
    "plt.figure(figsize = (16,4))\n",
    "ax = sns.histplot(data=y_pred,  binwidth=10, color=\"red\")\n",
    "ax.set(xlabel='count', ylabel='frequency')\n"
   ]
  },
  {
   "cell_type": "markdown",
   "metadata": {},
   "source": [
    "## Häufigkeitsverteilung der gesammelten Daten"
   ]
  },
  {
   "cell_type": "code",
   "execution_count": 2760,
   "metadata": {},
   "outputs": [
    {
     "data": {
      "text/plain": [
       "[Text(0.5, 0, 'count'), Text(0, 0.5, 'frequency')]"
      ]
     },
     "execution_count": 2760,
     "metadata": {},
     "output_type": "execute_result"
    },
    {
     "data": {
      "image/png": "[encoded data removed]",
      "text/plain": [
       "<Figure size 1152x288 with 1 Axes>"
      ]
     },
     "metadata": {
      "needs_background": "light"
     },
     "output_type": "display_data"
    }
   ],
   "source": [
    "plt.figure(figsize = (16,4))\n",
    "ax = sns.histplot(data=y_test,  binwidth=10, color=\"blue\")\n",
    "ax.set(xlabel='count', ylabel='frequency')"
   ]
  },
  {
   "cell_type": "markdown",
   "metadata": {},
   "source": []
  },
  {
   "cell_type": "markdown",
   "metadata": {},
   "source": []
  },
  {
   "cell_type": "code",
   "execution_count": 2761,
   "metadata": {},
   "outputs": [
    {
     "name": "stdout",
     "output_type": "stream",
     "text": [
      "Mean Squared Error: 9800.247564906183 Mean Absolute Error: 72.88080683413739\n"
     ]
    }
   ],
   "source": [
    "print('Mean Squared Error:', metrics.mean_squared_error(y_test, y_pred),'Mean Absolute Error:', metrics.mean_absolute_error(y_test, y_pred))"
   ]
  },
  {
   "cell_type": "markdown",
   "metadata": {},
   "source": [
    "# Test Ridge Regression"
   ]
  },
  {
   "cell_type": "code",
   "execution_count": 2762,
   "metadata": {},
   "outputs": [
    {
     "name": "stdout",
     "output_type": "stream",
     "text": [
      "Mean Squared Error: 9800.278105090078\n"
     ]
    }
   ],
   "source": [
    "from sklearn.linear_model import Ridge\n",
    "\n",
    "temp_mse = 99999.9\n",
    "for i in np.linspace(0, 20, 60):\n",
    "    rr = Ridge(alpha= i, normalize=True)\n",
    "    rr.fit(X_train, y_train)\n",
    "    rr_pred = rr.predict(X_test)\n",
    "\n",
    "    mse = metrics.mean_squared_error(y_test, rr_pred)\n",
    "    #print('Mean Squared Error:', mse)\n",
    "    if(mse < temp_mse):\n",
    "        temp_mse = mse\n",
    "print('Mean Squared Error:', temp_mse)"
   ]
  },
  {
   "cell_type": "markdown",
   "metadata": {},
   "source": []
  },
  {
   "cell_type": "code",
   "execution_count": 2763,
   "metadata": {},
   "outputs": [
    {
     "name": "stdout",
     "output_type": "stream",
     "text": [
      "Mean Squared Error: 28924.5094072632\n"
     ]
    }
   ],
   "source": [
    "from sklearn.linear_model import Lasso\n",
    "\n",
    "temp_mse = 99999.9\n",
    "for i in np.logspace(-10, -1, 90):\n",
    "    lassor = Ridge(alpha= i, normalize=True, tol = 0.1)\n",
    "    lassor.fit(X_train, y_train)\n",
    "    lassor_pred = lassor.predict(X_test)\n",
    "\n",
    "    mse = metrics.mean_squared_error(y_test, rr_pred)\n",
    "    #print('Mean Squared Error:', mse)\n",
    "    if(mse < temp_mse):\n",
    "        temp_mse = mse\n",
    "print('Mean Squared Error:', temp_mse)"
   ]
  },
  {
   "cell_type": "markdown",
   "metadata": {},
   "source": [
    "# Test Random Forrest Regressor"
   ]
  },
  {
   "cell_type": "markdown",
   "metadata": {},
   "source": []
  },
  {
   "cell_type": "code",
   "execution_count": 2764,
   "metadata": {},
   "outputs": [
    {
     "name": "stdout",
     "output_type": "stream",
     "text": [
      "Mean Squared Error: 2092.5204368663594 Mean Absolute Error: 27.701552995391705\n"
     ]
    }
   ],
   "source": [
    "from sklearn.ensemble import RandomForestRegressor\n",
    "rfr = RandomForestRegressor(n_estimators=100)\n",
    "rfr.fit(X_train, y_train)\n",
    "rfr_pred = rfr.predict(X_test)\n",
    "\n",
    "mse = metrics.mean_squared_error(y_test, rfr_pred)\n",
    "print('Mean Squared Error:', mse,'Mean Absolute Error:', metrics.mean_absolute_error(y_test, rfr_pred))\n",
    "\n",
    "actual_predicted_rfr = pd.DataFrame({'Actual': y_test, 'Predicted': rfr_pred})\n"
   ]
  },
  {
   "cell_type": "markdown",
   "metadata": {},
   "source": [
    "## Vorhergesagte und tatsächliche anzahl an Ausleihungen"
   ]
  },
  {
   "cell_type": "code",
   "execution_count": 2765,
   "metadata": {},
   "outputs": [
    {
     "data": {
      "text/plain": [
       "<AxesSubplot:xlabel='Actual', ylabel='Predicted'>"
      ]
     },
     "execution_count": 2765,
     "metadata": {},
     "output_type": "execute_result"
    },
    {
     "data": {
      "image/png": "[encoded data removed]",
      "text/plain": [
       "<Figure size 432x288 with 1 Axes>"
      ]
     },
     "metadata": {
      "needs_background": "light"
     },
     "output_type": "display_data"
    }
   ],
   "source": [
    "sns.scatterplot(data=actual_predicted_rfr, x=\"Actual\", y=\"Predicted\")\n"
   ]
  },
  {
   "cell_type": "markdown",
   "metadata": {},
   "source": [
    "## Häufigkeitsverteilung der vorhergesagten Werte"
   ]
  },
  {
   "cell_type": "code",
   "execution_count": 2766,
   "metadata": {},
   "outputs": [
    {
     "data": {
      "text/plain": [
       "[Text(0.5, 0, 'count'), Text(0, 0.5, 'frequency')]"
      ]
     },
     "execution_count": 2766,
     "metadata": {},
     "output_type": "execute_result"
    },
    {
     "data": {
      "image/png": "[encoded data removed]",
      "text/plain": [
       "<Figure size 1152x288 with 1 Axes>"
      ]
     },
     "metadata": {
      "needs_background": "light"
     },
     "output_type": "display_data"
    }
   ],
   "source": [
    "plt.figure(figsize = (16,4))\n",
    "ax = sns.histplot(data=rfr_pred,  binwidth=10, color=\"red\")\n",
    "ax.set(xlabel='count', ylabel='frequency')"
   ]
  },
  {
   "cell_type": "markdown",
   "metadata": {},
   "source": [
    "# Interactive Forecast\n",
    "\n",
    "## Definition der vorhezusagenden Daten"
   ]
  },
  {
   "cell_type": "code",
   "execution_count": 2767,
   "metadata": {},
   "outputs": [],
   "source": [
    "forecast_predict = pd.DataFrame({\n",
    "    'datetime':[\n",
    "        '2021-11-18 08:00:00',\n",
    "    ],\n",
    "    'temp':[\n",
    "        '6.8',\n",
    "    ],\n",
    "    'humidity':[\n",
    "        '91.0'\n",
    "    ],\n",
    "    'windspeed':[\n",
    "        '4.2'\n",
    "    ],\n",
    "    'holiday':[\n",
    "        '0.0'\n",
    "    ],\n",
    "    'workingday':[\n",
    "        '1.0',\n",
    "    ],\n",
    "})\n",
    "forecast_predict['datetime'] = pd.to_datetime(forecast_predict['datetime'])\n",
    "\n",
    "forecast_predict = forecast_predict.set_index('datetime')\n",
    "augmented_forecast_predict = augment_date_information(forecast_predict)\n",
    "\n",
    "#print(augmented_forecast_predict)\n",
    "#encoder shapes data in form of the trained data\n",
    "forecast_predict = encoder.transform(augmented_forecast_predict)\n",
    "\n"
   ]
  },
  {
   "cell_type": "markdown",
   "metadata": {},
   "source": [
    "## Vorhersage wie viele Scooter zwischen 8 und 9 Uhr ausgeliehen werden"
   ]
  },
  {
   "cell_type": "code",
   "execution_count": 2768,
   "metadata": {},
   "outputs": [
    {
     "name": "stdout",
     "output_type": "stream",
     "text": [
      "145.79\n"
     ]
    }
   ],
   "source": [
    "print(rfr.predict(forecast_predict)[0])"
   ]
  },
  {
   "cell_type": "markdown",
   "metadata": {},
   "source": []
  },
  {
   "cell_type": "markdown",
   "metadata": {},
   "source": []
  }
 ],
 "metadata": {
  "interpreter": {
   "hash": "97ae724bfa85b9b34df7982b8bb8c7216f435b92902d749e4263f71162bea840"
  },
  "kernelspec": {
   "display_name": "Python 3.8.8 64-bit ('base': conda)",
   "name": "python3"
  },
  "language_info": {
   "codemirror_mode": {
    "name": "ipython",
    "version": 3
   },
   "file_extension": ".py",
   "mimetype": "text/x-python",
   "name": "python",
   "nbconvert_exporter": "python",
   "pygments_lexer": "ipython3",
   "version": "3.8.8"
  },
  "orig_nbformat": 4
 },
 "nbformat": 4,
 "nbformat_minor": 2
}
